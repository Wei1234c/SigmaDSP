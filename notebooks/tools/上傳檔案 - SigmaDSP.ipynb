{
 "cells": [
  {
   "cell_type": "markdown",
   "metadata": {},
   "source": [
    "# 上傳檔案 - SigmaDSP"
   ]
  },
  {
   "cell_type": "markdown",
   "metadata": {},
   "source": [
    "### 需先安裝 ampy ( Adafruit MicroPython Tool )\n",
    "#### pip install adafruit-ampy\n",
    "https://github.com/adafruit/ampy  \n",
    "\n",
    "- In case of \"ESP8266/ESP32 - Micropython \"Could not enter raw repl\": \n",
    "    - http://marsdiy.blogspot.com/2018/06/nodemcumircopythoncould-not-enter-raw.html\n",
    "    - https://github.com/scientifichackers/ampy/issues/19\n",
    "    - add 'time.sleep(2) as ampy\\pyboard.py:[line 187]"
   ]
  },
  {
   "cell_type": "markdown",
   "metadata": {},
   "source": [
    "[Blog](https://wei1234c.blogspot.tw/2017/08/sx127x-lora-transceiver-driver-for.html)  "
   ]
  },
  {
   "cell_type": "code",
   "execution_count": 1,
   "metadata": {},
   "outputs": [],
   "source": [
    "import os, sys\n",
    "\n",
    "def gen_relative_path(target_path): \n",
    "    \n",
    "    def del_same_parents(target_path, current_path):\n",
    "        if len(target_path) * len(current_path) > 0:\n",
    "            if target_path[0] == current_path[0]:\n",
    "                target_path.pop(0)\n",
    "                current_path.pop(0)\n",
    "                del_same_parents(target_path, current_path)\n",
    "            \n",
    "    current_path = os.getcwd().replace('\\\\', '/').split('/')\n",
    "    target_path = target_path.replace('\\\\', '/').split('/')\n",
    "    del_same_parents(target_path, current_path)\n",
    "    \n",
    "    return ['..'] * len(current_path) + target_path\n",
    "\n",
    "\n",
    "def append_source_relative_path(source_relative_path):\n",
    "    sys.path.append(os.sep.join(source_relative_path))"
   ]
  },
  {
   "cell_type": "code",
   "execution_count": 2,
   "metadata": {},
   "outputs": [],
   "source": [
    "# paths = ['']\n",
    "# paths = [gen_relative_path(p) for p in paths]\n",
    "# print(paths)"
   ]
  },
  {
   "cell_type": "code",
   "execution_count": 3,
   "metadata": {},
   "outputs": [],
   "source": [
    "# paths = [['..', '..', 'codes', 'bridges', 'tools']]\n",
    "\n",
    "# for path in paths:\n",
    "#     append_source_relative_path(path)"
   ]
  },
  {
   "cell_type": "code",
   "execution_count": 4,
   "metadata": {},
   "outputs": [
    {
     "name": "stdout",
     "output_type": "stream",
     "text": [
      "Populating the interactive namespace from numpy and matplotlib\n"
     ]
    }
   ],
   "source": [
    "%pylab inline "
   ]
  },
  {
   "cell_type": "code",
   "execution_count": 5,
   "metadata": {},
   "outputs": [],
   "source": [
    "import os\n",
    "import shutil"
   ]
  },
  {
   "cell_type": "markdown",
   "metadata": {},
   "source": [
    "### 設定COM port (set current COM port), baud rate"
   ]
  },
  {
   "cell_type": "code",
   "execution_count": 6,
   "metadata": {},
   "outputs": [
    {
     "name": "stderr",
     "output_type": "stream",
     "text": [
      "'ls' 不是內部或外部命令、可執行的程式或批次檔。\n"
     ]
    }
   ],
   "source": [
    "!ls /dev/ttyUSB*"
   ]
  },
  {
   "cell_type": "code",
   "execution_count": 7,
   "metadata": {},
   "outputs": [],
   "source": [
    "baud_rate = 115200\n",
    "# baud_rate = 230400\n",
    "# baud_rate = 460800\n",
    "# baud_rate = 921600\n",
    "\n",
    "com_port = 'COM3'\n",
    "# com_port = 'COM4'\n",
    "com_port = 'COM6'\n",
    "# com_port = 'COM7'\n",
    "# com_port = 'COM11'\n",
    "# com_port = 'COM12'\n",
    "# com_port = 'COM13'\n",
    "# com_port = 'COM15'\n",
    "# com_port = 'COM16'\n",
    "# com_port = 'COM17'\n",
    "# com_port = '/dev/ttyUSB0'\n",
    "# com_port = '/dev/ttyUSB1'"
   ]
  },
  {
   "cell_type": "markdown",
   "metadata": {},
   "source": [
    "### Utility functions"
   ]
  },
  {
   "cell_type": "code",
   "execution_count": 8,
   "metadata": {},
   "outputs": [],
   "source": [
    "def clear_local_folder(folder):\n",
    "    print('\\n[Clearing folder {}]'.format(folder))\n",
    "    for file in os.listdir(folder):\n",
    "        os.remove(os.path.join(folder, file))\n",
    "        \n",
    "        \n",
    "def copy_one_file_to_local_folder(folder, file, destination_folder):\n",
    "    print('Copying {} to {}'.format(file, destination_folder))\n",
    "    shutil.copy(os.path.join(folder, file), destination_folder)\n",
    "    \n",
    "    \n",
    "def copy_all_files_to_local_folder(folders, destination_folder):\n",
    "    print('\\n[Copying all files to upload folder {}]'.format(destination_folder))\n",
    "    clear_local_folder(destination_folder)    \n",
    "    \n",
    "    for folder in folders: \n",
    "        for file in os.listdir(folder):\n",
    "            if (file.endswith('.py') or file.endswith('.mpy')) and not file.startswith('_'):\n",
    "                copy_one_file_to_local_folder(folder, file, destination_folder)"
   ]
  },
  {
   "cell_type": "code",
   "execution_count": 9,
   "metadata": {},
   "outputs": [],
   "source": [
    "def list_files_in_device(com_port):\n",
    "    files = !ampy --port {com_port} --baud {baud_rate} ls\n",
    "    return sorted(files)\n",
    "\n",
    "\n",
    "def cat_file_from_device(com_port, file):\n",
    "    !ampy --port {com_port} --baud {baud_rate} get {file}\n",
    "    \n",
    "\n",
    "def delete_file_in_device(com_port, file):\n",
    "    print('Deleting {}'.format(file))\n",
    "    !ampy --port {com_port} --baud {baud_rate} rm {file}\n",
    "    \n",
    "\n",
    "def delete_files_in_device(com_port):\n",
    "    print('\\n[Deleting all files in device {}]'.format(com_port))\n",
    "    for file in list_files_in_device(com_port):\n",
    "        delete_file_in_device(com_port, file)\n",
    "        \n",
    "#     try:\n",
    "#         !ampy --port {com_port} --baud {baud_rate} rmdir {'/'}\n",
    "#     except Exception as e:\n",
    "#         print(e)        \n",
    "        \n",
    "        \n",
    "def copy_one_file_to_device(com_port, folder, file, mpy_only = False):\n",
    "    if mpy_only:\n",
    "        if file.endswith('.mpy'):\n",
    "            print('Copying {}'.format(file))\n",
    "            !ampy --port {com_port} --baud {baud_rate} put {os.path.join(folder, file)}  \n",
    "    elif file.endswith('.py'):\n",
    "        print('Copying {}'.format(file))\n",
    "        !ampy --port {com_port} --baud {baud_rate} put {os.path.join(folder, file)}   \n",
    "        \n",
    "\n",
    "def delet_main_in_device(com_port, main_file_names):\n",
    "    print('Deleting {}'.format(main_file_names))\n",
    "    files = list_files_in_device(com_port)\n",
    "\n",
    "    for file in main_file_names:\n",
    "        if file in files:\n",
    "            delete_file_in_device(com_port, file)\n",
    "            \n",
    "            \n",
    "def delete_main_and_files_in_device(com_port, main_file_names = ['main.py', 'main.mpy'], delete_first = True, mpy_only = False):\n",
    "    print('\\n[Copying all files to device {}]'.format(com_port))\n",
    "    delet_main_in_device(com_port, main_file_names)\n",
    "    if mpy_only: delete_first = True\n",
    "    if delete_first: delete_files_in_device(com_port)\n",
    "        \n",
    "\n",
    "def copy_all_files_to_device(com_port, folder, main_file_names = ['main.py', 'main.mpy'], delete_first = True, mpy_only = False):    \n",
    "    for file in os.listdir(folder):\n",
    "        if (file.endswith('.py') or file.endswith('.mpy')) and not file.startswith('_') and not file in main_file_names:\n",
    "            copy_one_file_to_device(com_port, folder, file, mpy_only)                    \n",
    "    \n",
    "    for file in main_file_names:\n",
    "        if os.path.isfile(os.path.join(folder, file)):\n",
    "            copy_one_file_to_device(com_port, folder, file, mpy_only)  \n",
    "            \n",
    "            \n",
    "def do_all_to_device(com_port, folder, main_file_names = ['main.py', 'main.mpy'], delete_first = True, mpy_only = False):\n",
    "    delete_main_and_files_in_device(com_port, main_file_names, delete_first, mpy_only)\n",
    "    copy_all_files_to_device(com_port, folder, main_file_names, delete_first, mpy_only)"
   ]
  },
  {
   "cell_type": "markdown",
   "metadata": {},
   "source": [
    "### Copy *.py to device (all needed fils will be put in the same folder)"
   ]
  },
  {
   "cell_type": "code",
   "execution_count": 10,
   "metadata": {},
   "outputs": [],
   "source": [
    "# paths = [' ']\n",
    "# paths = [gen_relative_path(p) for p in paths]\n",
    "# print(paths)"
   ]
  },
  {
   "cell_type": "code",
   "execution_count": 11,
   "metadata": {},
   "outputs": [],
   "source": [
    "paths = [['..', '..', '..', '..', '..', 'Signal Generators', 'bitbucket', 'github', 'codes', 'signal_generators'],\n",
    "         ['..', '..', '..', '..', '..', 'Utilities', 'bitbucket', 'github', 'codes', 'utilities', 'adapters'],\n",
    "         ['..', '..', '..', '..', '..', 'Utilities', 'bitbucket', 'github', 'codes', 'utilities'],\n",
    "         ['..', '..', 'codes', 'sigma'],\n",
    "         ['..', '..', 'codes', 'sigma', 'bus'],\n",
    "         ['..', '..', 'codes', 'sigma', 'factory'], \n",
    "         ['..', '..', 'codes', 'sigma', 'mini_xml', 'etree'],\n",
    "         ['..', '..', 'codes', 'sigma', 'mini_xml'],\n",
    "         ['..', '..', 'codes', 'sigma', 'sigma_dsp'], \n",
    "         ['..', '..', 'codes', 'sigma', 'sigma_dsp', 'adau'], \n",
    "         ['..', '..', 'codes', 'sigma', 'sigma_dsp', 'adau', 'adau1401'],\n",
    "         ['..', '..', 'codes', 'sigma', 'sigma_studio', 'project'],\n",
    "         ['..', '..', 'codes', 'test', 'uPy'],\n",
    "         ['..', '..', 'codes', 'test', 'uPy', 'micropython'],\n",
    "         ['..', 'Functional test', 'temp'],]"
   ]
  },
  {
   "cell_type": "code",
   "execution_count": 12,
   "metadata": {
    "scrolled": false
   },
   "outputs": [
    {
     "name": "stdout",
     "output_type": "stream",
     "text": [
      "\n",
      "[Copying all files to upload folder upload\\py]\n",
      "\n",
      "[Clearing folder upload\\py]\n",
      "Copying interfaces.py to upload\\py\n",
      "Copying modulators.py to upload\\py\n",
      "Copying tools.py to upload\\py\n",
      "Copying peripherals.py to upload\\py\n",
      "Copying numeric.py to upload\\py\n",
      "Copying register.py to upload\\py\n",
      "Copying shift_register.py to upload\\py\n",
      "Copying adapters.py to upload\\py\n",
      "Copying factory.py to upload\\py\n",
      "Copying ufactory.py to upload\\py\n",
      "Copying ElementTree.py to upload\\py\n",
      "Copying xmltok2.py to upload\\py\n",
      "Copying dsp_processor.py to upload\\py\n",
      "Copying messages.py to upload\\py\n",
      "Copying adau.py to upload\\py\n",
      "Copying adau1401.py to upload\\py\n",
      "Copying registers_map.py to upload\\py\n",
      "Copying netlist.py to upload\\py\n",
      "Copying project_xml.py to upload\\py\n",
      "Copying test_adau_upy.py to upload\\py\n",
      "Copying config.py to upload\\py\n",
      "Copying led.py to upload\\py\n",
      "Copying main.py to upload\\py\n",
      "Copying wifi.py to upload\\py\n",
      "Copying adjustable_gain.py to upload\\py\n",
      "Copying adjustable_volume.py to upload\\py\n",
      "Copying arithmetic_operations.py to upload\\py\n",
      "Copying automatic_eq.py to upload\\py\n",
      "Copying beam_forming.py to upload\\py\n",
      "Copying cell.py to upload\\py\n",
      "Copying chime.py to upload\\py\n",
      "Copying clippers.py to upload\\py\n",
      "Copying combo.py to upload\\py\n",
      "Copying counters.py to upload\\py\n",
      "Copying crossover.py to upload\\py\n",
      "Copying cross_fade.py to upload\\py\n",
      "Copying custom_algorithms.py to upload\\py\n",
      "Copying dc.py to upload\\py\n",
      "Copying demultiplexers.py to upload\\py\n",
      "Copying dsp_functions.py to upload\\py\n",
      "Copying dynamics_processors.py to upload\\py\n",
      "Copying dynamic_bass.py to upload\\py\n",
      "Copying dynamic_mixers.py to upload\\py\n",
      "Copying effects.py to upload\\py\n",
      "Copying envelope.py to upload\\py\n",
      "Copying fir.py to upload\\py\n",
      "Copying first_order.py to upload\\py\n",
      "Copying gpio.py to upload\\py\n",
      "Copying level_detectors.py to upload\\py\n",
      "Copying linear_interpolator.py to upload\\py\n",
      "Copying linear_sweep.py to upload\\py\n",
      "Copying logarithmic_sweep.py to upload\\py\n",
      "Copying logic.py to upload\\py\n",
      "Copying lookup_tables.py to upload\\py\n",
      "Copying loudness.py to upload\\py\n",
      "Copying miscellaneous.py to upload\\py\n",
      "Copying mixers.py to upload\\py\n",
      "Copying multiplexers.py to upload\\py\n",
      "Copying mute.py to upload\\py\n",
      "Copying nth_order.py to upload\\py\n",
      "Copying oscillators.py to upload\\py\n",
      "Copying peak.py to upload\\py\n",
      "Copying pitch_modification.py to upload\\py\n",
      "Copying push_button.py to upload\\py\n",
      "Copying rms.py to upload\\py\n",
      "Copying rotary_encoder.py to upload\\py\n",
      "Copying second_order.py to upload\\py\n",
      "Copying signal_detector.py to upload\\py\n",
      "Copying software_debounce.py to upload\\py\n",
      "Copying source.py to upload\\py\n",
      "Copying splitters.py to upload\\py\n",
      "Copying state_machine.py to upload\\py\n",
      "Copying sub_harmonic_synth.py to upload\\py\n",
      "Copying surround_n_3d.py to upload\\py\n",
      "Copying switch.py to upload\\py\n",
      "Copying transforms.py to upload\\py\n",
      "Copying unclassified.py to upload\\py\n",
      "Copying voltage_controlled.py to upload\\py\n",
      "Copying volume_control.py to upload\\py\n",
      "Copying white_noise.py to upload\\py\n"
     ]
    }
   ],
   "source": [
    "folders = [os.path.sep.join(path) for path in paths]\n",
    "\n",
    "upload_folder = os.path.sep.join(['upload', 'py'])\n",
    "\n",
    "copy_all_files_to_local_folder(folders, upload_folder)"
   ]
  },
  {
   "cell_type": "code",
   "execution_count": 13,
   "metadata": {
    "scrolled": false
   },
   "outputs": [
    {
     "name": "stdout",
     "output_type": "stream",
     "text": [
      "\n",
      "[Copying all files to device COM6]\n",
      "Deleting ['main.py', 'main.mpy']\n",
      "Copying adapters.py\n",
      "Copying adau.py\n",
      "Copying adau1401.py\n",
      "Copying adjustable_gain.py\n",
      "Copying adjustable_volume.py\n",
      "Copying arithmetic_operations.py\n",
      "Copying automatic_eq.py\n",
      "Copying beam_forming.py\n",
      "Copying cell.py\n",
      "Copying chime.py\n",
      "Copying clippers.py\n",
      "Copying combo.py\n",
      "Copying config.py\n",
      "Copying counters.py\n",
      "Copying crossover.py\n",
      "Copying cross_fade.py\n",
      "Copying custom_algorithms.py\n",
      "Copying dc.py\n",
      "Copying demultiplexers.py\n",
      "Copying dsp_functions.py\n",
      "Copying dsp_processor.py\n",
      "Copying dynamics_processors.py\n",
      "Copying dynamic_bass.py\n",
      "Copying dynamic_mixers.py\n",
      "Copying effects.py\n",
      "Copying ElementTree.py\n",
      "Copying envelope.py\n",
      "Copying factory.py\n",
      "Copying fir.py\n",
      "Copying first_order.py\n",
      "Copying gpio.py\n",
      "Copying interfaces.py\n",
      "Copying led.py\n",
      "Copying level_detectors.py\n",
      "Copying linear_interpolator.py\n",
      "Copying linear_sweep.py\n",
      "Copying logarithmic_sweep.py\n",
      "Copying logic.py\n",
      "Copying lookup_tables.py\n",
      "Copying loudness.py\n",
      "Copying messages.py\n",
      "Copying miscellaneous.py\n",
      "Copying mixers.py\n",
      "Copying modulators.py\n",
      "Copying multiplexers.py\n",
      "Copying mute.py\n",
      "Copying netlist.py\n",
      "Copying nth_order.py\n",
      "Copying numeric.py\n",
      "Copying oscillators.py\n",
      "Copying peak.py\n",
      "Copying peripherals.py\n",
      "Copying pitch_modification.py\n",
      "Copying project_xml.py\n",
      "Copying push_button.py\n",
      "Copying register.py\n",
      "Copying registers_map.py\n",
      "Copying rms.py\n",
      "Copying rotary_encoder.py\n",
      "Copying second_order.py\n",
      "Copying shift_register.py\n",
      "Copying signal_detector.py\n",
      "Copying software_debounce.py\n",
      "Copying source.py\n",
      "Copying splitters.py\n",
      "Copying state_machine.py\n",
      "Copying sub_harmonic_synth.py\n",
      "Copying surround_n_3d.py\n",
      "Copying switch.py\n",
      "Copying test_adau_upy.py\n",
      "Copying tools.py\n",
      "Copying transforms.py\n",
      "Copying ufactory.py\n",
      "Copying unclassified.py\n",
      "Copying voltage_controlled.py\n",
      "Copying volume_control.py\n",
      "Copying white_noise.py\n",
      "Copying wifi.py\n",
      "Copying xmltok2.py\n",
      "Copying main.py\n",
      "\n",
      "[All done!]\n"
     ]
    }
   ],
   "source": [
    "upload_folder_py = os.path.sep.join(['upload', 'py'])\n",
    "\n",
    "do_all_to_device(com_port, upload_folder, delete_first = False)\n",
    "\n",
    "print('\\n[All done!]')"
   ]
  },
  {
   "cell_type": "markdown",
   "metadata": {},
   "source": [
    "### 單一檔案上傳 (single file upload, in case needed)"
   ]
  },
  {
   "cell_type": "code",
   "execution_count": null,
   "metadata": {},
   "outputs": [],
   "source": [
    "copy_one_file_to_device(com_port, os.path.sep.join(['..', '..', 'codes', 'sigma', 'bus']), 'adapters.py') "
   ]
  },
  {
   "cell_type": "code",
   "execution_count": null,
   "metadata": {},
   "outputs": [],
   "source": [
    "copy_one_file_to_device(com_port, os.path.sep.join(['..', '..', 'codes', 'sigma', 'sigma_dsp', 'adau', 'adau1401']), 'registers_map.py') "
   ]
  },
  {
   "cell_type": "code",
   "execution_count": null,
   "metadata": {},
   "outputs": [],
   "source": [
    "copy_one_file_to_device(com_port, os.path.sep.join(['..', '..', '..', '..', '..', 'Utilities', 'bitbucket', 'github', 'codes', 'utilities']), 'numeric.py') "
   ]
  },
  {
   "cell_type": "code",
   "execution_count": null,
   "metadata": {},
   "outputs": [],
   "source": [
    "copy_one_file_to_device(com_port, os.path.sep.join(['..', '..', '..', '..', '..', 'Utilities', 'bitbucket', 'github', 'codes', 'utilities', 'adapters']), 'peripherals.py') "
   ]
  },
  {
   "cell_type": "code",
   "execution_count": null,
   "metadata": {},
   "outputs": [],
   "source": [
    "copy_one_file_to_device(com_port, os.path.sep.join(['..', '..', 'codes', 'sigma', 'sigma_dsp']), 'messages.py') "
   ]
  },
  {
   "cell_type": "code",
   "execution_count": null,
   "metadata": {},
   "outputs": [],
   "source": [
    "copy_one_file_to_device(com_port, os.path.sep.join(['..', '..', 'codes', 'test', 'uPy']), 'demo.xml') "
   ]
  },
  {
   "cell_type": "markdown",
   "metadata": {},
   "source": [
    "### 列出檔案 (list files)"
   ]
  },
  {
   "cell_type": "code",
   "execution_count": null,
   "metadata": {},
   "outputs": [],
   "source": [
    "# list_files_in_device(com_port)"
   ]
  },
  {
   "cell_type": "markdown",
   "metadata": {},
   "source": [
    "### 檢查檔案內容 (check file content)"
   ]
  },
  {
   "cell_type": "code",
   "execution_count": null,
   "metadata": {},
   "outputs": [],
   "source": [
    "# cat_file_from_device(com_port, 'config_lora.py')"
   ]
  },
  {
   "cell_type": "markdown",
   "metadata": {},
   "source": [
    "### 連網測試 (network config and test)"
   ]
  },
  {
   "cell_type": "code",
   "execution_count": null,
   "metadata": {},
   "outputs": [],
   "source": [
    "# 連上網路\n",
    "# import network; nic=network.WLAN(network.STA_IF); nic.active(False);  # disable network\n",
    "# import network; nic=network.WLAN(network.STA_IF); nic.active(True); nic.connect('SSID','password');nic.ifconfig()\n",
    "# import network; nic=network.WLAN(network.STA_IF); nic.active(True); nic.connect('Kingnet-70M-$370', '');nic.ifconfig()\n",
    "# import network; nic=network.WLAN(network.STA_IF); nic.ifconfig()\n",
    "# import network; nic=network.WLAN(network.STA_IF);nic.ifconfig();nic.config('mac');nic.ifconfig((['mac',])"
   ]
  },
  {
   "cell_type": "code",
   "execution_count": null,
   "metadata": {},
   "outputs": [],
   "source": [
    "# Delete all files\n",
    "# import u_python;u_python.del_all_files();import os;os.listdir()"
   ]
  }
 ],
 "metadata": {
  "anaconda-cloud": {},
  "kernelspec": {
   "display_name": "Python 3 (ipykernel)",
   "language": "python",
   "name": "python3"
  },
  "language_info": {
   "codemirror_mode": {
    "name": "ipython",
    "version": 3
   },
   "file_extension": ".py",
   "mimetype": "text/x-python",
   "name": "python",
   "nbconvert_exporter": "python",
   "pygments_lexer": "ipython3",
   "version": "3.9.7"
  }
 },
 "nbformat": 4,
 "nbformat_minor": 1
}
