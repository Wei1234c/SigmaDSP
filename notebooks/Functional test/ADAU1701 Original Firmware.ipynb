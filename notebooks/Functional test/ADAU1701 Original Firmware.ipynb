{
 "cells": [
  {
   "cell_type": "markdown",
   "metadata": {},
   "source": [
    "# ADAU1701 Original Firmware\n",
    "\n",
    "https://www.analog.com/media/en/technical-documentation/data-sheets/adau1401.pdf"
   ]
  },
  {
   "cell_type": "code",
   "execution_count": 1,
   "metadata": {},
   "outputs": [],
   "source": [
    "from pathfinder import Pathfinder\n",
    "\n",
    "# abs_paths = ['']\n",
    "# relative_paths = Pathfinder.relative_paths_from_abs(abs_paths)\n",
    "\n",
    "relative_paths = [['..', '..', '..', '..', '..', '..', '已完成', 'Bridges', 'bitbucket', 'github', 'codes'],\n",
    "                  ['..', '..', '..', '..', '..', 'Signal Generators', 'bitbucket', 'github', 'codes'],\n",
    "                  ['..', '..', '..', '..', '..', 'Utilities', 'bitbucket', 'github', 'codes'],\n",
    "                  ['..', '..', 'codes']]\n",
    "\n",
    "Pathfinder.append_relative_paths(relative_paths)"
   ]
  },
  {
   "cell_type": "code",
   "execution_count": 2,
   "metadata": {},
   "outputs": [],
   "source": [
    "import pandas as pd\n",
    "\n",
    "#https://thispointer.com/python-pandas-how-to-display-full-dataframe-i-e-print-all-rows-columns-without-truncation/\n",
    "pd.set_option('display.max_rows', None)\n",
    "# pd.set_option('display.max_columns', None)\n",
    "# pd.set_option('display.width', None)\n",
    "# pd.set_option('display.max_colwidth', -1)"
   ]
  },
  {
   "cell_type": "code",
   "execution_count": 3,
   "metadata": {},
   "outputs": [],
   "source": [
    "from bridges.ftdi.adapters.micropython import machine\n",
    "from bridges.ftdi.controllers.i2c import I2cController\n",
    "from sigma.sigma_dsp.adau import ADAU1401\n",
    "from utilities.adapters import peripherals"
   ]
  },
  {
   "cell_type": "markdown",
   "metadata": {},
   "source": [
    "## Debug mode?"
   ]
  },
  {
   "cell_type": "code",
   "execution_count": 4,
   "metadata": {
    "scrolled": false
   },
   "outputs": [],
   "source": [
    "cls = ADAU1401\n",
    "\n",
    "cls.DEBUG_MODE_SHOW_BUS_DATA = False         # whether to show bus data. \n",
    "cls.DEBUG_MODE_PRINT_REGISTER = False        # whether to print registers. "
   ]
  },
  {
   "cell_type": "markdown",
   "metadata": {},
   "source": [
    "## DSP processor"
   ]
  },
  {
   "cell_type": "code",
   "execution_count": 5,
   "metadata": {},
   "outputs": [
    {
     "name": "stdout",
     "output_type": "stream",
     "text": [
      "\n",
      "****** Virtual device. Data may not be real ! ******\n",
      "\n"
     ]
    }
   ],
   "source": [
    "with_hardware_device = False  # set True if hardware is connected.\n",
    "\n",
    "if with_hardware_device:\n",
    "    \n",
    "    ctrl = I2cController()\n",
    "    _machine = ctrl.get_gpio()\n",
    "\n",
    "    _i2c = ctrl.I2C()\n",
    "\n",
    "    _pin_reset = _machine.Pin('ADBUS4', mode = machine.Pin.OUT)\n",
    "    _pin_reset.high()\n",
    "\n",
    "else:\n",
    "    _i2c = _pin_reset = None  # using None for testing without actual hardware device.\n",
    "\n",
    "bus = peripherals.I2C(_i2c)"
   ]
  },
  {
   "cell_type": "code",
   "execution_count": 6,
   "metadata": {},
   "outputs": [],
   "source": [
    "# bus = fx2lp.I2C(as_400KHz = False)"
   ]
  },
  {
   "cell_type": "code",
   "execution_count": 7,
   "metadata": {},
   "outputs": [],
   "source": [
    "dsp = ADAU1401(bus, pin_reset = _pin_reset)"
   ]
  },
  {
   "cell_type": "markdown",
   "metadata": {},
   "source": [
    "## Methods Test"
   ]
  },
  {
   "cell_type": "code",
   "execution_count": 8,
   "metadata": {},
   "outputs": [],
   "source": [
    "from sigma.sigma_dsp.messages import Message, Messages"
   ]
  },
  {
   "cell_type": "code",
   "execution_count": 9,
   "metadata": {},
   "outputs": [],
   "source": [
    "# ADAU1701_original_firmware_text_file = ''\n",
    "\n",
    "# with open(ADAU1701_original_firmware_text_file, 'tr') as f:\n",
    "#     bytes_str = ''.join(f.readlines()).replace(' ', ',').replace('\\n', '').split(',') \n",
    "#     messages_bytes = bytes(int(s, 16) for s in bytes_str[:-1] )"
   ]
  },
  {
   "cell_type": "code",
   "execution_count": 10,
   "metadata": {},
   "outputs": [],
   "source": [
    "file_name = 'ADAU1701_original_firmware.bin'\n",
    "\n",
    "with open(file_name, 'br') as f:\n",
    "    messages_bytes = f.read()"
   ]
  },
  {
   "cell_type": "code",
   "execution_count": 11,
   "metadata": {},
   "outputs": [
    {
     "name": "stdout",
     "output_type": "stream",
     "text": [
      "{'Type': 'Write', 'Type ID': 1, 'Device Address': 0, 'Sub Address': '0x081C', 'Data': b'\\x00X'}\n",
      "{'Type': 'No operation executed', 'Type ID': 3}\n",
      "{'Type': 'No operation executed', 'Type ID': 3}\n",
      "{'Type': 'No operation executed', 'Type ID': 3}\n",
      "{'Type': 'No operation executed', 'Type ID': 3}\n",
      "{'Type': 'No operation executed', 'Type ID': 3}\n",
      "{'Type': 'No operation executed', 'Type ID': 3}\n",
      "{'Type': 'No operation executed', 'Type ID': 3}\n",
      "{'Type': 'No operation executed', 'Type ID': 3}\n",
      "{'Type': 'No operation executed', 'Type ID': 3}\n",
      "{'Type': 'No operation executed', 'Type ID': 3}\n",
      "{'Type': 'No operation executed', 'Type ID': 3}\n",
      "{'Type': 'No operation executed', 'Type ID': 3}\n",
      "{'Type': 'No operation executed', 'Type ID': 3}\n",
      "{'Type': 'No operation executed', 'Type ID': 3}\n",
      "{'Type': 'No operation executed', 'Type ID': 3}\n",
      "{'Type': 'No operation executed', 'Type ID': 3}\n",
      "{'Type': 'No operation executed', 'Type ID': 3}\n",
      "{'Type': 'No operation executed', 'Type ID': 3}\n",
      "{'Type': 'Write', 'Type ID': 1, 'Device Address': 0, 'Sub Address': '0x0800', 'Data': b'\\x00\\x00\\x00\\x00\\x00\\x00\\x00\\x00\\x00\\x00\\x00\\x00\\x00\\x00\\x00\\x00\\x00\\x00\\x00\\x00\\x00\\x00\\x00\\x00\\x00\\x00\\x00\\x00\\x00\\x00\\x00\\x00'}\n",
      "{'Type': 'Write', 'Type ID': 1, 'Device Address': 0, 'Sub Address': '0x0000', 'Data': b'\\x00\\x00\\x00\\xaf\\x00B\\xaa\\xab\\x00\\x80\\x00\\x00\\x00\\x00\\x00\\x00\\x00\\x80\\x00\\x00\\x00\\x80\\x00\\x00\\x00\\x80\\x00\\x00\\x00\\x00\\x00\\x00\\x00\\x00\\x00\\x00\\x00\\x00\\x00\\x00\\x00\\x00\\x00\\x00\\x00\\x80\\x00\\x00\\x00\\x00\\x00\\x00\\x00\\x00\\x00\\x00\\x00\\x00\\x00\\x00\\x00\\x00\\x00\\x00\\x00\\x80\\x00\\x00\\x00\\x00\\x00\\x00\\x00\\x00\\x00\\x00\\x00\\x00\\x00\\x00\\x00\\x00\\x00\\x00\\x00\\x80\\x00\\x00\\x00\\x00\\x00\\x00\\x00\\x00\\x00\\x00\\x00\\x00\\x00\\x00\\x00\\x00\\x00\\x00\\x00\\x80\\x00\\x00\\x00\\x00\\x00\\x00\\x00\\x00\\x00\\x00\\x00\\x00\\x00\\x00\\x00\\x00\\x00\\x00\\x00\\x80\\x00\\x00\\x00\\x00\\x00\\x00\\x00\\x00\\x00\\x00\\x00\\x00\\x00\\x00\\x00\\x00\\x00\\x00\\x00\\x80\\x00\\x00\\x00\\x00\\x00\\x00\\x00\\x00\\x00\\x00\\x00\\x00\\x00\\x00\\x00\\x00\\x00\\x00\\x00\\x80\\x00\\x00\\x00\\x00\\x00\\x00\\x00\\x00\\x00\\x00\\x00\\x00\\x00\\x00\\x00\\x00\\x00\\x00\\x00\\x00N\\xb0\\x00\\x00\\x01\\xe0\\x00\\x00\\x07\\x1c\\x00\\x00N\\xb0\\x00\\x00\\x01\\xe0\\x00\\x00\\x07\\x1c'}\n",
      "{'Type': 'Write', 'Type ID': 1, 'Device Address': 0, 'Sub Address': '0x0400', 'Data': b'\\xff\\xf2\\x03 \\t\\x00\\t\\x08 \\x01\\xff\\xf2\\x00\"A\\xff\\xf1\\x08B\\x01\\xff\\xf1\\x08@&\\xff\\xe9\\x08\"\\t\\x00\\x00\\x00\\x00\\x01\\xff\\xe9\\x08$\\'\\x00\\x10\\x00\\xe2\\x01\\xff\\xf2\\x01@\\t\\xff\\xe9\\x08 \\x01\\xff\\xf1\\x08 #\\x00\\x18\\x00\\xe2\\x01\\x00\\x1a\\x02 \\x01\\x00\\x00\\x00\\xe2\\x01\\x00\\x00\\x00\\x00\\x01\\x00 \\x00\\xe8\\x01\\x00\\x00\\x00\\x00\\x01\\x00(\\x00\\xe8\\x01\\x00\\x01\\x08 \\x01\\xfe\\xc8\\x00\\x02\\x01\\x00\"\\x04 \\x01\\x00@\\x00\\xe2\\x01\\x00\\x00\\x00\\x00\\x01\\x00*\\x05 \\x01\\x00X\\x00\\xe2\\x01\\x00\\x00\\x00\\x00\\x01\\x00j\\t \\x01\\x00b\\n\"\\x01\\x00B\\x06\"\\x01\\x00:\\x07\"\\x01\\x002\\x08\"\\x01\\x00p\\x00\\xe2\\x01\\x00\\x82\\t \\x01\\x00z\\n\"\\x01\\x00Z\\x06\"\\x01\\x00R\\x07\"\\x01\\x00J\\x08\"\\x01\\x00\\x88\\x00\\xe2\\x01\\x00\\x9a\\x0e \\x01\\x00\\x92\\x0f\"\\x01\\x00r\\x0b\"\\x01\\x00j\\x0c\"\\x01\\x00b\\r\"\\x01\\x00\\xa0\\x00\\xe2\\x01\\x00\\xb2\\x0e \\x01\\x00\\xaa\\x0f\"\\x01\\x00\\x8a\\x0b\"\\x01\\x00\\x82\\x0c\"\\x01\\x00z\\r\"\\x01\\x00\\xb8\\x00\\xe2\\x01\\x00\\xca\\x13 \\x01\\x00\\xc2\\x14\"\\x01\\x00\\xa2\\x10\"\\x01\\x00\\x9a\\x11\"\\x01\\x00\\x92\\x12\"\\x01\\x00\\xd0\\x00\\xe2\\x01\\x00\\xe2\\x13 \\x01\\x00\\xda\\x14\"\\x01\\x00\\xba\\x10\"\\x01\\x00\\xb2\\x11\"\\x01\\x00\\xaa\\x12\"\\x01\\x00\\xe8\\x00\\xe2\\x01\\x00\\xfa\\x18 \\x01\\x00\\xf2\\x19\"\\x01\\x00\\xd2\\x15\"\\x01\\x00\\xca\\x16\"\\x01\\x00\\xc2\\x17\"\\x01\\x01\\x00\\x00\\xe2\\x01\\x01\\x12\\x18 \\x01\\x01\\n\\x19\"\\x01\\x00\\xea\\x15\"\\x01\\x00\\xe2\\x16\"\\x01\\x00\\xda\\x17\"\\x01\\x01\\x18\\x00\\xe2\\x01\\x01*\\x1d \\x01\\x01\"\\x1e\"\\x01\\x01\\x02\\x1a\"\\x01\\x00\\xfa\\x1b\"\\x01\\x00\\xf2\\x1c\"\\x01\\x010\\x00\\xe2\\x01\\x01B\\x1d \\x01\\x01:\\x1e\"\\x01\\x01\\x1a\\x1a\"\\x01\\x01\\x12\\x1b\"\\x01\\x01\\n\\x1c\"\\x01\\x01H\\x00\\xe2\\x01\\x01Z\" \\x01\\x01R#\"\\x01\\x012\\x1f\"\\x01\\x01* \"\\x01\\x01\"!\"\\x01\\x01`\\x00\\xe2\\x01\\x01r\" \\x01\\x01j#\"\\x01\\x01J\\x1f\"\\x01\\x01B \"\\x01\\x01:!\"\\x01\\x01x\\x00\\xe2\\x01\\x01\\x8a\\' \\x01\\x01\\x82(\"\\x01\\x01b$\"\\x01\\x01Z%\"\\x01\\x01R&\"\\x01\\x01\\x90\\x00\\xe2\\x01\\x01\\xa2\\' \\x01\\x01\\x9a(\"\\x01\\x01z$\"\\x01\\x01r%\"\\x01\\x01j&\"\\x01\\x01\\xa8\\x00\\xe2\\x01\\x01\\xba, \\x01\\x01\\xb2-\"\\x01\\x01\\x92)\"\\x01\\x01\\x8a*\"\\x01\\x01\\x82+\"\\x01\\x01\\xc0\\x00\\xe2\\x01\\x01\\xd2, \\x01\\x01\\xca-\"\\x01\\x01\\xaa)\"\\x01\\x01\\xa2*\"\\x01\\x01\\x9a+\"\\x01\\x01\\xd8\\x00\\xe2\\x01\\x01\\xc1\\x08 \\x01\\xffH\\x00\\x02\\x01\\x01\\xd9\\x08 \\x01\\xffP\\x00\\x02\\x01\\x01\\xc1\\x08 \\x01\\xffx\\x00\\x02\\x01\\x01\\xd9\\x08 \\x01\\xff\\x80\\x00\\x02\\x01\\x01\\xc0\\x00\\xc0\\x01\\x01\\xc7\\xff \\x01\\x00\\x00\\x00\\x00\\x01\\x02 \\x00\\xe2\\x01\\x02(\\x00\\xf2\\x01\\x01\\xf1\\x08 \\x01\\x01\\xf2.\"A\\x02*.\"\\x01\\x01\\xe1\\x084\\x01\\x01\\xe2.\"A\\x02\".\\x82\\x01\\x02\".\"\\x01\\x00\\x00\\x00\\x00\\x01\\x01\\xe8\\x00\\xe2\\x01\\x01\\xf8\\x00\\xf2\\x01\\x020\\x00\\xf6\\x01\\x02\\x11\\x08 \\t\\x02\\x18\\x00\\xe2\\x01\\x02\\x01\\x08 \\x01\\xff\\xf20\"g\\x02\\x08\\x00\\xe2\\x01\\x021\\x08\"I\\x021\\x08 \\x01\\x02\\x08\\x00\\xe2\\'\\xff\\xf2/ \\x01\\x02\\x18\\x00\\xe2\\'\\x00\\x00\\x00\\x00\\x01\\x02\\x19\\x08 \\t\\xff\\xf9\\x08\"A\\x02\\x18\\x00\\xe2&\\x02\\t\\x08 \\x01\\x01\\xc1\\x08 \\x01\\x028\\x00\\xe2\\x01\\x01\\xd8\\x00\\xc0\\x01\\x01\\xdf\\xff \\x01\\x00\\x00\\x00\\x00\\x01\\x02 \\x00\\xe2\\x01\\x02(\\x00\\xf2\\x01\\x02Q\\x08 \\x01\\x02R1\"A\\x02*1\"\\x01\\x02A\\x084\\x01\\x02B1\"A\\x02\"1\\x82\\x01\\x02\"1\"\\x01\\x00\\x00\\x00\\x00\\x01\\x02H\\x00\\xe2\\x01\\x02X\\x00\\xf2\\x01\\x020\\x00\\xf6\\x01\\x02q\\x08 \\t\\x02x\\x00\\xe2\\x01\\x02a\\x08 \\x01\\xff\\xf23\"g\\x02h\\x00\\xe2\\x01\\x021\\x08\"I\\x021\\x08 \\x01\\x02h\\x00\\xe2\\'\\xff\\xf22 \\x01\\x02x\\x00\\xe2\\'\\x00\\x00\\x00\\x00\\x01\\x02y\\x08 \\t\\xff\\xf9\\x08\"A\\x02x\\x00\\xe2&\\x02i\\x08 \\x01\\x01\\xd9\\x08 \\x01\\x02\\x80\\x00\\xe2\\x01\\x029\\x08 \\x01\\xffX\\x00\\x02\\x01\\x02\\x81\\x08 \\x01\\xff`\\x00\\x02\\x01\\x029\\x08 \\x01\\xffp\\x00\\x02\\x01\\x02\\x81\\x08 \\x01\\xffh\\x00\\x02\\x01'}\n",
      "{'Type': 'Write', 'Type ID': 1, 'Device Address': 0, 'Sub Address': '0x081C', 'Data': b'\\x00\\x1c'}\n",
      "{'Type': 'Write', 'Type ID': 1, 'Device Address': 0, 'Sub Address': '0x081D', 'Data': b'\\x08'}\n",
      "{'Type': 'Write', 'Type ID': 1, 'Device Address': 0, 'Sub Address': '0x081E', 'Data': b'\\x08\\x00'}\n",
      "{'Type': 'Write', 'Type ID': 1, 'Device Address': 0, 'Sub Address': '0x081F', 'Data': b'\\x00'}\n",
      "{'Type': 'Write', 'Type ID': 1, 'Device Address': 0, 'Sub Address': '0x0820', 'Data': b'D\\x12$'}\n",
      "{'Type': 'Write', 'Type ID': 1, 'Device Address': 0, 'Sub Address': '0x0821', 'Data': b'DD\\x00'}\n",
      "{'Type': 'Write', 'Type ID': 1, 'Device Address': 0, 'Sub Address': '0x0822', 'Data': b'\\x00\\x00'}\n",
      "{'Type': 'Write', 'Type ID': 1, 'Device Address': 0, 'Sub Address': '0x0823', 'Data': b'\\x00\\x00'}\n",
      "{'Type': 'Write', 'Type ID': 1, 'Device Address': 0, 'Sub Address': '0x0824', 'Data': b'\\x80\\x00'}\n",
      "{'Type': 'Write', 'Type ID': 1, 'Device Address': 0, 'Sub Address': '0x0825', 'Data': b'\\x00\\x00'}\n",
      "{'Type': 'Write', 'Type ID': 1, 'Device Address': 0, 'Sub Address': '0x0826', 'Data': b'\\x00\\x00'}\n",
      "{'Type': 'Write', 'Type ID': 1, 'Device Address': 0, 'Sub Address': '0x0827', 'Data': b'\\x00\\x01'}\n",
      "{'Type': 'Write', 'Type ID': 1, 'Device Address': 0, 'Sub Address': '0x081C', 'Data': b'\\x00\\x1c'}\n",
      "{'Type': 'End and wait for writeback', 'Type ID': 6}\n",
      "{'Type': 'End', 'Type ID': 0}\n"
     ]
    }
   ],
   "source": [
    "# parse data bytes in to a collections of \"Message\" object.\n",
    "\n",
    "messages = Message.messages_from_bytes(messages_bytes)\n",
    "\n",
    "for m in messages:\n",
    "    print(m)"
   ]
  }
 ],
 "metadata": {
  "kernelspec": {
   "display_name": "Python 3 (ipykernel)",
   "language": "python",
   "name": "python3"
  },
  "language_info": {
   "codemirror_mode": {
    "name": "ipython",
    "version": 3
   },
   "file_extension": ".py",
   "mimetype": "text/x-python",
   "name": "python",
   "nbconvert_exporter": "python",
   "pygments_lexer": "ipython3",
   "version": "3.8.12"
  }
 },
 "nbformat": 4,
 "nbformat_minor": 2
}
