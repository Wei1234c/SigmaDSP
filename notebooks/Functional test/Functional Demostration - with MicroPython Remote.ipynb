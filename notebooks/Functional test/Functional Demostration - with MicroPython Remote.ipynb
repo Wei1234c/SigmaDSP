{
 "cells": [
  {
   "cell_type": "markdown",
   "metadata": {},
   "source": [
    "# Functional Demostration - with MicroPython Remote"
   ]
  },
  {
   "cell_type": "code",
   "execution_count": 1,
   "metadata": {},
   "outputs": [
    {
     "name": "stdout",
     "output_type": "stream",
     "text": [
      "\u001b[31mNo serial connected\n",
      "\u001b[0m  %connect to connect\n",
      "  %lsmagic to list commands"
     ]
    }
   ],
   "source": [
    "# %local\n",
    "# !ls /dev/ttyUSB*"
   ]
  },
  {
   "cell_type": "code",
   "execution_count": 1,
   "metadata": {},
   "outputs": [
    {
     "name": "stdout",
     "output_type": "stream",
     "text": [
      "\u001b[34mConnected on COM6\n",
      "\u001b[0m"
     ]
    }
   ],
   "source": [
    "# %connect /dev/ttyUSB0 --baudrate=115200 --user='micro' --password='python' --wait=0\n",
    "\n",
    "%connect COM6 --baudrate=115200 --user='micro' --password='python' --wait=0"
   ]
  },
  {
   "cell_type": "code",
   "execution_count": 1,
   "metadata": {
    "scrolled": false
   },
   "outputs": [],
   "source": [
    "import gc\n",
    "import os\n",
    "import sys \n",
    "\n",
    "#  for ESP32 =========================== \n",
    "import peripherals\n",
    "import adapters\n",
    "from adau1401 import ADAU1401 as ADAU\n",
    "from ufactory import Factory\n",
    "\n",
    "\n",
    "def collect_garbage():\n",
    "    gc.collect()\n",
    "    if sys.platform == 'esp32':\n",
    "        print('[Memory - free: {}   allocated: {}]'.format(gc.mem_free(), gc.mem_alloc()))"
   ]
  },
  {
   "cell_type": "markdown",
   "metadata": {},
   "source": [
    "## DSP processor"
   ]
  },
  {
   "cell_type": "code",
   "execution_count": 1,
   "metadata": {},
   "outputs": [],
   "source": [
    "# from factory import Factory\n",
    "\n",
    "with_hardware_device = True\n",
    "\n",
    "if with_hardware_device:\n",
    "    _i2c = peripherals.I2C.get_uPy_i2c(scl_pin_id = 18,\n",
    "                                       sda_pin_id = 5)\n",
    "else:\n",
    "    _i2c = None  # using None for testing without actual hardware device.\n",
    "\n",
    "bus = adapters.I2C(_i2c)"
   ]
  },
  {
   "cell_type": "code",
   "execution_count": 1,
   "metadata": {},
   "outputs": [],
   "source": [
    "dsp = ADAU(bus)"
   ]
  },
  {
   "cell_type": "markdown",
   "metadata": {},
   "source": [
    "## SigmaStudio project file"
   ]
  },
  {
   "cell_type": "code",
   "execution_count": 1,
   "metadata": {},
   "outputs": [],
   "source": [
    "# SigmaStudio_project_file_url = os.sep.join(['..', '..', 'SigmaStudio projects', 'projects', 'demo_upy', 'demo_upy.dspproj'])"
   ]
  },
  {
   "cell_type": "markdown",
   "metadata": {},
   "source": [
    "![](https://github.com/Wei1234c/SigmaDSP/blob/master/SigmaStudio%20projects/projects/demo_upy/demo_upy.png?raw=true)"
   ]
  },
  {
   "cell_type": "markdown",
   "metadata": {},
   "source": [
    "[![SigmaDSP PC Control Test](https://raw.githubusercontent.com/Wei1234c/SigmaDSP/master/jpgs/demo_upy2.png)](https://youtu.be/R3jcmxOhpao)     "
   ]
  },
  {
   "cell_type": "markdown",
   "metadata": {},
   "source": [
    "## Factory"
   ]
  },
  {
   "cell_type": "code",
   "execution_count": 1,
   "metadata": {},
   "outputs": [
    {
     "name": "stdout",
     "output_type": "stream",
     "text": [
      "factory ready.\r\n"
     ]
    }
   ],
   "source": [
    "project_xml_file_url = 'demo_upy.xml'\n",
    "\n",
    "factory = Factory(project_xml_file_url = project_xml_file_url,\n",
    "                  dsp = dsp\n",
    "                  )\n",
    "\n",
    "print('factory ready.')"
   ]
  },
  {
   "cell_type": "markdown",
   "metadata": {},
   "source": [
    "## IC"
   ]
  },
  {
   "cell_type": "code",
   "execution_count": 1,
   "metadata": {},
   "outputs": [],
   "source": [
    "# showing cells, algorithms, parameters of this project\n",
    "\n",
    "ic = factory.get_ic()"
   ]
  },
  {
   "cell_type": "markdown",
   "metadata": {},
   "source": [
    "## Cells "
   ]
  },
  {
   "cell_type": "code",
   "execution_count": 1,
   "metadata": {},
   "outputs": [
    {
     "name": "stdout",
     "output_type": "stream",
     "text": [
      "dict_keys(['Source_Switch', 'Gain_0', 'FIR0', 'FIR1', 'Tone1', 'Tone0', 'Mute_1', 'Mute_0', 'Gain_1', 'White_Noise'])\r\n"
     ]
    }
   ],
   "source": [
    "cells = factory.get_cells(ic)\n",
    "print(cells.keys())"
   ]
  },
  {
   "cell_type": "markdown",
   "metadata": {},
   "source": [
    "### Get Cell objects ready for use."
   ]
  },
  {
   "cell_type": "code",
   "execution_count": 1,
   "metadata": {
    "scrolled": true
   },
   "outputs": [],
   "source": [
    "# un-comment this to generate a script to embody Cell objects.\n",
    "\n",
    "# for o in factory.get_cells_manifest(ic):\n",
    "#     print(o) "
   ]
  },
  {
   "cell_type": "code",
   "execution_count": 1,
   "metadata": {},
   "outputs": [],
   "source": [
    "# assign variable names to each Cell for easy access.\n",
    "\n",
    "fir0 = cells['FIR0']  # FIR( 1 )\n",
    "fir1 = cells['FIR1']  # FIR( 1 )\n",
    "gain_0 = cells['Gain_0']  # Gain (no slew)( 1 )\n",
    "gain_1 = cells['Gain_1']  # Gain (no slew)( 1 )\n",
    "mute_0 = cells['Mute_0']  # No Slew (Standard)( 1 )\n",
    "mute_1 = cells['Mute_1']  # No Slew (Standard)( 1 )\n",
    "source_switch = cells['Source_Switch']  # Stereo SW Slew( 3 )\n",
    "tone0 = cells['Tone0']  # Tone Synthesis (lookup/sine)( 1 )\n",
    "tone1 = cells['Tone1']  # Tone Synthesis (lookup/sine)( 1 )\n",
    "white_noise = cells['White_Noise']  # White Noise( 1 )"
   ]
  },
  {
   "cell_type": "markdown",
   "metadata": {},
   "source": [
    "## Functional Demostration"
   ]
  },
  {
   "cell_type": "code",
   "execution_count": 1,
   "metadata": {},
   "outputs": [],
   "source": [
    "# switch to sine tone\n",
    "\n",
    "source_switch.switch(0)"
   ]
  },
  {
   "cell_type": "code",
   "execution_count": 1,
   "metadata": {},
   "outputs": [],
   "source": [
    "# get cell by name\n",
    "\n",
    "tone1 = factory.get_cell_by_name('Tone1', ic)"
   ]
  },
  {
   "cell_type": "code",
   "execution_count": 1,
   "metadata": {},
   "outputs": [],
   "source": [
    "# disable sine tones\n",
    "\n",
    "tone0.enable(False)\n",
    "tone1.enable(False)"
   ]
  },
  {
   "cell_type": "code",
   "execution_count": 1,
   "metadata": {},
   "outputs": [],
   "source": [
    "# enable sine tones\n",
    "\n",
    "tone0.enable(True)\n",
    "tone1.enable(True)"
   ]
  },
  {
   "cell_type": "code",
   "execution_count": 1,
   "metadata": {},
   "outputs": [],
   "source": [
    "# set frequency \n",
    "\n",
    "tone0.set_frequency(440)\n",
    "tone1.set_frequency(436)"
   ]
  },
  {
   "cell_type": "code",
   "execution_count": 1,
   "metadata": {},
   "outputs": [],
   "source": [
    "# set frequency \n",
    "\n",
    "tone0.set_frequency(1100)\n",
    "tone1.set_frequency(1104)"
   ]
  },
  {
   "cell_type": "code",
   "execution_count": 1,
   "metadata": {},
   "outputs": [],
   "source": [
    "# set frequency \n",
    "\n",
    "tone0.set_frequency(110)\n",
    "tone1.set_frequency(114)"
   ]
  },
  {
   "cell_type": "code",
   "execution_count": 1,
   "metadata": {},
   "outputs": [],
   "source": [
    "# switch to white noise\n",
    "\n",
    "source_switch.switch(1)"
   ]
  },
  {
   "cell_type": "code",
   "execution_count": 1,
   "metadata": {},
   "outputs": [],
   "source": [
    "# decrease volume\n",
    "\n",
    "gain_0.set_dB(-20)"
   ]
  },
  {
   "cell_type": "code",
   "execution_count": 1,
   "metadata": {},
   "outputs": [],
   "source": [
    "# increase volume\n",
    "\n",
    "gain_0.set_dB(0)"
   ]
  },
  {
   "cell_type": "code",
   "execution_count": 1,
   "metadata": {},
   "outputs": [],
   "source": [
    "# mute input\n",
    "\n",
    "mute_0.mute(True)\n",
    "mute_1.mute(True)"
   ]
  },
  {
   "cell_type": "code",
   "execution_count": 1,
   "metadata": {},
   "outputs": [],
   "source": [
    "# un-mute input\n",
    "\n",
    "mute_0.mute(False)\n",
    "mute_1.mute(False)"
   ]
  },
  {
   "cell_type": "code",
   "execution_count": 1,
   "metadata": {},
   "outputs": [],
   "source": [
    "# disable white noise\n",
    "\n",
    "white_noise.enable(False)"
   ]
  },
  {
   "cell_type": "code",
   "execution_count": 1,
   "metadata": {},
   "outputs": [],
   "source": [
    "# enable white noise\n",
    "\n",
    "white_noise.enable(True)"
   ]
  },
  {
   "cell_type": "code",
   "execution_count": 1,
   "metadata": {},
   "outputs": [],
   "source": [
    "# set input0 dB = 0\n",
    "\n",
    "gain_0.set_dB(0)"
   ]
  },
  {
   "cell_type": "code",
   "execution_count": 1,
   "metadata": {},
   "outputs": [],
   "source": [
    "# set input0 dB = -10\n",
    "\n",
    "gain_0.set_dB(-10)"
   ]
  },
  {
   "cell_type": "code",
   "execution_count": 1,
   "metadata": {
    "scrolled": true
   },
   "outputs": [
    {
     "name": "stdout",
     "output_type": "stream",
     "text": [
      "-10.0\r\n"
     ]
    }
   ],
   "source": [
    "# read input0 dB value\n",
    "\n",
    "print(gain_0.get_dB())"
   ]
  },
  {
   "cell_type": "code",
   "execution_count": 1,
   "metadata": {},
   "outputs": [
    {
     "name": "stdout",
     "output_type": "stream",
     "text": [
      "0.3162277\r\n"
     ]
    }
   ],
   "source": [
    "# read input0 gain value\n",
    "\n",
    "print(gain_0.get_gain())"
   ]
  },
  {
   "cell_type": "code",
   "execution_count": 1,
   "metadata": {},
   "outputs": [],
   "source": [
    "# set input0 gain = 1\n",
    "\n",
    "gain_0.set_gain(1)"
   ]
  },
  {
   "cell_type": "code",
   "execution_count": 1,
   "metadata": {
    "scrolled": true
   },
   "outputs": [
    {
     "name": "stdout",
     "output_type": "stream",
     "text": [
      "0.0\n"
     ]
    }
   ],
   "source": [
    "# check input0 dB value\n",
    "\n",
    "print(gain_0.get_dB())"
   ]
  },
  {
   "cell_type": "code",
   "execution_count": 1,
   "metadata": {},
   "outputs": [
    {
     "name": "stdout",
     "output_type": "stream",
     "text": [
      "1.0\r\n"
     ]
    }
   ],
   "source": [
    "# check input0 gain value\n",
    "\n",
    "print(gain_0.get_gain())"
   ]
  },
  {
   "cell_type": "code",
   "execution_count": 1,
   "metadata": {},
   "outputs": [
    {
     "name": "stdout",
     "output_type": "stream",
     "text": [
      "[1.0, 0.0, 0.0, 0.0, 0.0, 0.0, 0.0, 0.0, 0.0, 0.0]\r\n"
     ]
    }
   ],
   "source": [
    "# read FIR0's coefficients\n",
    "\n",
    "coeffs = fir0.get_coefficients()\n",
    "print(coeffs)"
   ]
  },
  {
   "cell_type": "code",
   "execution_count": 1,
   "metadata": {},
   "outputs": [
    {
     "name": "stdout",
     "output_type": "stream",
     "text": [
      "[1.0, 0.0, 0.0, 0.0, 0.0, 2.0, 0.0, 0.0, 0.0, 0.0]\n"
     ]
    }
   ],
   "source": [
    "# set and check FIR0's coefficients\n",
    "\n",
    "fir0.set_coefficients([1.0, 0.0, 0.0, 0.0, 0.0, 2.0, 0.0, 0.0, 0.0, 0.0])\n",
    "print(fir0.get_coefficients())"
   ]
  },
  {
   "cell_type": "code",
   "execution_count": 1,
   "metadata": {},
   "outputs": [
    {
     "name": "stdout",
     "output_type": "stream",
     "text": [
      "[1.0, 0.0, 0.0, 0.0, 0.0, 2.0, 0.0, 0.0, 0.0, 0.0]\r\n"
     ]
    }
   ],
   "source": [
    "# coefficients of FIR0 can also be accessed via. get_table() method.\n",
    "\n",
    "print(fir0.get_table().numbers)"
   ]
  },
  {
   "cell_type": "code",
   "execution_count": 1,
   "metadata": {},
   "outputs": [],
   "source": [
    "# reload from EEPROM, equivalent to soft-reset\n",
    "\n",
    "dsp.reload_from_eeprom()"
   ]
  }
 ],
 "metadata": {
  "kernelspec": {
   "display_name": "MicroPython Remote",
   "language": "micropython",
   "name": "micropython"
  },
  "language_info": {
   "codemirror_mode": "python",
   "file_extension": ".py",
   "mimetype": "text/python",
   "name": "micropython"
  }
 },
 "nbformat": 4,
 "nbformat_minor": 2
}
