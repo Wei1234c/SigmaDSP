{
 "cells": [
  {
   "cell_type": "markdown",
   "metadata": {},
   "source": [
    "# ADAU1401 Functional Test\n",
    "\n",
    "https://www.analog.com/media/en/technical-documentation/data-sheets/adau1401.pdf"
   ]
  },
  {
   "cell_type": "code",
   "execution_count": 1,
   "metadata": {},
   "outputs": [],
   "source": [
    "from pathfinder import Pathfinder\n",
    "\n",
    "# abs_paths = ['']\n",
    "# relative_paths = Pathfinder.relative_paths_from_abs(abs_paths)\n",
    "\n",
    "relative_paths = [['..', '..', '..', '..', '..', '..', '已完成', 'Bridges', 'bitbucket', 'github', 'codes'],\n",
    "                  ['..', '..', '..', '..', '..', 'Signal Generators', 'bitbucket', 'github', 'codes'],\n",
    "                  ['..', '..', '..', '..', '..', 'Utilities', 'bitbucket', 'github', 'codes'],\n",
    "                  ['..', '..', 'codes']]\n",
    "\n",
    "Pathfinder.append_relative_paths(relative_paths)"
   ]
  },
  {
   "cell_type": "code",
   "execution_count": 2,
   "metadata": {},
   "outputs": [],
   "source": [
    "import pandas as pd\n",
    "\n",
    "#https://thispointer.com/python-pandas-how-to-display-full-dataframe-i-e-print-all-rows-columns-without-truncation/\n",
    "pd.set_option('display.max_rows', None)\n",
    "# pd.set_option('display.max_columns', None)\n",
    "# pd.set_option('display.width', None)\n",
    "# pd.set_option('display.max_colwidth', -1)"
   ]
  },
  {
   "cell_type": "code",
   "execution_count": 3,
   "metadata": {},
   "outputs": [],
   "source": [
    "from bridges.ftdi.adapters.micropython import machine\n",
    "from bridges.ftdi.controllers.i2c import I2cController\n",
    "from sigma.sigma_dsp.adau import ADAU1401\n",
    "from utilities.adapters import peripherals"
   ]
  },
  {
   "cell_type": "markdown",
   "metadata": {},
   "source": [
    "## Debug mode?"
   ]
  },
  {
   "cell_type": "code",
   "execution_count": 4,
   "metadata": {
    "scrolled": false
   },
   "outputs": [],
   "source": [
    "cls = ADAU1401\n",
    "\n",
    "cls.DEBUG_MODE_SHOW_BUS_DATA = False         # whether to show bus data. \n",
    "cls.DEBUG_MODE_PRINT_REGISTER = False        # whether to print registers. "
   ]
  },
  {
   "cell_type": "markdown",
   "metadata": {},
   "source": [
    "## DSP processor"
   ]
  },
  {
   "cell_type": "code",
   "execution_count": 5,
   "metadata": {},
   "outputs": [],
   "source": [
    "with_hardware_device = True  # set True if hardware is connected.\n",
    "\n",
    "if with_hardware_device:\n",
    "    \n",
    "    ctrl = I2cController()\n",
    "    _machine = ctrl.get_gpio()\n",
    "\n",
    "    _i2c = ctrl.I2C()\n",
    "\n",
    "    _pin_reset = _machine.Pin('ADBUS4', mode = machine.Pin.OUT)\n",
    "    _pin_reset.high()\n",
    "\n",
    "else:\n",
    "    _i2c = _pin_reset = None  # using None for testing without actual hardware device.\n",
    "\n",
    "bus = peripherals.I2C(_i2c)"
   ]
  },
  {
   "cell_type": "code",
   "execution_count": 6,
   "metadata": {},
   "outputs": [],
   "source": [
    "# bus = fx2lp.I2C(as_400KHz = False)"
   ]
  },
  {
   "cell_type": "code",
   "execution_count": 7,
   "metadata": {},
   "outputs": [],
   "source": [
    "dsp = ADAU1401(bus, pin_reset = _pin_reset)"
   ]
  },
  {
   "cell_type": "markdown",
   "metadata": {},
   "source": [
    "## Methods Test"
   ]
  },
  {
   "cell_type": "code",
   "execution_count": 8,
   "metadata": {},
   "outputs": [],
   "source": [
    "# for f in dir(ADAU1401):\n",
    "#     if not f.startswith('_'):\n",
    "#         if f.islower():\n",
    "#             if callable(getattr(ADAU1401, f)):\n",
    "#                 print('dsp.{}()'.format(f))"
   ]
  },
  {
   "cell_type": "markdown",
   "metadata": {},
   "source": [
    "### Basic functions:\n",
    "- enable\n",
    "- toggle\n",
    "- mute\n",
    "- start\n",
    "- stop\n",
    "- close\n",
    "- pause\n",
    "- resume \n",
    "- ..."
   ]
  },
  {
   "cell_type": "code",
   "execution_count": 9,
   "metadata": {},
   "outputs": [],
   "source": [
    "dsp.close()"
   ]
  },
  {
   "cell_type": "code",
   "execution_count": 10,
   "metadata": {},
   "outputs": [],
   "source": [
    "dsp.start()"
   ]
  },
  {
   "cell_type": "code",
   "execution_count": 11,
   "metadata": {},
   "outputs": [],
   "source": [
    "dsp.enable(False)"
   ]
  },
  {
   "cell_type": "code",
   "execution_count": 12,
   "metadata": {},
   "outputs": [],
   "source": [
    "dsp.enable(True)"
   ]
  },
  {
   "cell_type": "code",
   "execution_count": 13,
   "metadata": {},
   "outputs": [],
   "source": [
    "dsp.enable_output(False)"
   ]
  },
  {
   "cell_type": "code",
   "execution_count": 14,
   "metadata": {},
   "outputs": [],
   "source": [
    "dsp.enable_output(True)"
   ]
  },
  {
   "cell_type": "code",
   "execution_count": 15,
   "metadata": {},
   "outputs": [],
   "source": [
    "dsp.mute(True)"
   ]
  },
  {
   "cell_type": "code",
   "execution_count": 16,
   "metadata": {},
   "outputs": [],
   "source": [
    "dsp.mute(False)"
   ]
  },
  {
   "cell_type": "code",
   "execution_count": 17,
   "metadata": {},
   "outputs": [],
   "source": [
    "dsp.adc.mute(True)"
   ]
  },
  {
   "cell_type": "code",
   "execution_count": 18,
   "metadata": {},
   "outputs": [],
   "source": [
    "dsp.adc.mute(False)"
   ]
  },
  {
   "cell_type": "code",
   "execution_count": 19,
   "metadata": {},
   "outputs": [],
   "source": [
    "dsp.dac.mute(True)"
   ]
  },
  {
   "cell_type": "code",
   "execution_count": 20,
   "metadata": {},
   "outputs": [],
   "source": [
    "dsp.dac.mute(False)"
   ]
  },
  {
   "cell_type": "code",
   "execution_count": 21,
   "metadata": {},
   "outputs": [],
   "source": [
    "dsp.pause()"
   ]
  },
  {
   "cell_type": "code",
   "execution_count": 22,
   "metadata": {},
   "outputs": [],
   "source": [
    "dsp.resume()"
   ]
  },
  {
   "cell_type": "code",
   "execution_count": 23,
   "metadata": {},
   "outputs": [],
   "source": [
    "dsp.reset()"
   ]
  },
  {
   "cell_type": "code",
   "execution_count": 24,
   "metadata": {},
   "outputs": [],
   "source": [
    "dsp.init()"
   ]
  },
  {
   "cell_type": "code",
   "execution_count": 25,
   "metadata": {},
   "outputs": [],
   "source": [
    "dsp.start()"
   ]
  },
  {
   "cell_type": "code",
   "execution_count": 26,
   "metadata": {},
   "outputs": [],
   "source": [
    "dsp.stop()"
   ]
  },
  {
   "cell_type": "code",
   "execution_count": 27,
   "metadata": {},
   "outputs": [],
   "source": [
    "dsp.toggle()"
   ]
  },
  {
   "cell_type": "code",
   "execution_count": 28,
   "metadata": {},
   "outputs": [],
   "source": [
    "dsp.update()"
   ]
  },
  {
   "cell_type": "markdown",
   "metadata": {},
   "source": [
    "### Registers related operations"
   ]
  },
  {
   "cell_type": "code",
   "execution_count": 29,
   "metadata": {},
   "outputs": [
    {
     "name": "stdout",
     "output_type": "stream",
     "text": [
      "\n",
      "<< Serial Output Control >>:  ('0x0', '0b0')\n",
      "[ RSVD ] :  0\n",
      "[ OLRP ] :  0\n",
      "[ OBP ]  :  0\n",
      "[ M_S ]  :  0\n",
      "[ OBF ]  :  0\n",
      "[ OLF ]  :  0\n",
      "[ FST ]  :  0\n",
      "[ TDM ]  :  0\n",
      "[ MSB ]  :  0\n",
      "[ OWL ]  :  0\n"
     ]
    },
    {
     "data": {
      "text/plain": [
       "4"
      ]
     },
     "execution_count": 29,
     "metadata": {},
     "output_type": "execute_result"
    }
   ],
   "source": [
    "# read_register_by_address\n",
    "\n",
    "dsp._read_register_by_address(2078).print()"
   ]
  },
  {
   "cell_type": "code",
   "execution_count": 30,
   "metadata": {},
   "outputs": [
    {
     "name": "stdout",
     "output_type": "stream",
     "text": [
      "\n",
      "<< Serial Output Control >>:  ('0x0', '0b0')\n",
      "[ RSVD ] :  0\n",
      "[ OLRP ] :  0\n",
      "[ OBP ]  :  0\n",
      "[ M_S ]  :  0\n",
      "[ OBF ]  :  0\n",
      "[ OLF ]  :  0\n",
      "[ FST ]  :  0\n",
      "[ TDM ]  :  0\n",
      "[ MSB ]  :  0\n",
      "[ OWL ]  :  0\n"
     ]
    },
    {
     "data": {
      "text/plain": [
       "4"
      ]
     },
     "execution_count": 30,
     "metadata": {},
     "output_type": "execute_result"
    }
   ],
   "source": [
    "# read_register_by_name\n",
    "\n",
    "dsp._read_register_by_name('Serial Output Control').print()"
   ]
  },
  {
   "cell_type": "code",
   "execution_count": 31,
   "metadata": {
    "scrolled": true
   },
   "outputs": [
    {
     "name": "stdout",
     "output_type": "stream",
     "text": [
      "\n",
      "<< GPIO Pin Setting >>:  ('0xeff', '0b111011111111')\n",
      "[ RSVD ] :  0\n",
      "[ MP ]   :  3839\n"
     ]
    },
    {
     "data": {
      "text/plain": [
       "4"
      ]
     },
     "execution_count": 31,
     "metadata": {},
     "output_type": "execute_result"
    }
   ],
   "source": [
    "# write_register_by_name\n",
    "\n",
    "dsp._write_register_by_name('GPIO Pin Setting', 3839).print()"
   ]
  },
  {
   "cell_type": "code",
   "execution_count": 32,
   "metadata": {},
   "outputs": [
    {
     "data": {
      "text/plain": [
       "[(2048, 0),\n",
       " (2049, 0),\n",
       " (2050, 0),\n",
       " (2051, 0),\n",
       " (2052, 0),\n",
       " (2053, 0),\n",
       " (2054, 0),\n",
       " (2055, 0),\n",
       " (2056, 3839),\n",
       " (2057, 0),\n",
       " (2058, 0),\n",
       " (2059, 0),\n",
       " (2060, 0),\n",
       " (2064, 0),\n",
       " (2065, 0),\n",
       " (2066, 0),\n",
       " (2067, 0),\n",
       " (2068, 0),\n",
       " (2069, 0),\n",
       " (2070, 0),\n",
       " (2071, 0),\n",
       " (2072, 0),\n",
       " (2073, 0),\n",
       " (2074, 0),\n",
       " (2075, 0),\n",
       " (2076, 28),\n",
       " (2078, 0),\n",
       " (2079, 0),\n",
       " (2080, 0),\n",
       " (2081, 0),\n",
       " (2082, 0),\n",
       " (2084, 0),\n",
       " (2086, 0),\n",
       " (2087, 1)]"
      ]
     },
     "execution_count": 32,
     "metadata": {},
     "output_type": "execute_result"
    }
   ],
   "source": [
    "# current registers values held in PC's memory.\n",
    "\n",
    "values = dsp.registers_values\n",
    "values"
   ]
  },
  {
   "cell_type": "code",
   "execution_count": 33,
   "metadata": {},
   "outputs": [],
   "source": [
    "# load registers configuration data from a list to PC's memory. \n",
    "\n",
    "dsp.load_registers(values)"
   ]
  },
  {
   "cell_type": "code",
   "execution_count": 34,
   "metadata": {},
   "outputs": [
    {
     "data": {
      "text/plain": [
       "[(2048, 'Interface Register 0', 0),\n",
       " (2049, 'Interface Register 1', 0),\n",
       " (2050, 'Interface Register 2', 0),\n",
       " (2051, 'Interface Register 3', 0),\n",
       " (2052, 'Interface Register 4', 0),\n",
       " (2053, 'Interface Register 5', 0),\n",
       " (2054, 'Interface Register 6', 0),\n",
       " (2055, 'Interface Register 7', 0),\n",
       " (2056, 'GPIO Pin Setting', 3839),\n",
       " (2057, 'Auxiliary ADC Data 0', 224),\n",
       " (2058, 'Auxiliary ADC Data 1', 224),\n",
       " (2059, 'Auxiliary ADC Data 2', 224),\n",
       " (2060, 'Auxiliary ADC Data 3', 176),\n",
       " (2064, 'Safeload Registers 0', 0),\n",
       " (2065, 'Safeload Registers 1', 0),\n",
       " (2066, 'Safeload Registers 2', 0),\n",
       " (2067, 'Safeload Registers 3', 0),\n",
       " (2068, 'Safeload Registers 4', 0),\n",
       " (2069, 'Safeload Address 0', 0),\n",
       " (2070, 'Safeload Address 1', 0),\n",
       " (2071, 'Safeload Address 2', 0),\n",
       " (2072, 'Safeload Address 3', 0),\n",
       " (2073, 'Safeload Address 4', 0),\n",
       " (2074, 'Data Capture 0', 2021),\n",
       " (2075, 'Data Capture 1', 1964),\n",
       " (2076, 'DSP Core Control', 28),\n",
       " (2078, 'Serial Output Control', 0),\n",
       " (2079, 'Serial Input Control', 0),\n",
       " (2080, 'Multipurpose Pin Configuration 0', 0),\n",
       " (2081, 'Multipurpose Pin Configuration 1', 0),\n",
       " (2082, 'Auxiliary ADC and Power Control', 0),\n",
       " (2084, 'Auxiliary ADC Enable', 0),\n",
       " (2086, 'Oscillator Power Down', 0),\n",
       " (2087, 'DAC Setup', 1)]"
      ]
     },
     "execution_count": 34,
     "metadata": {},
     "output_type": "execute_result"
    }
   ],
   "source": [
    "# read_all_registers: read registers value from hardware to PC's memory.\n",
    "\n",
    "dsp.read_all_registers()"
   ]
  },
  {
   "cell_type": "code",
   "execution_count": 35,
   "metadata": {},
   "outputs": [],
   "source": [
    "# write_all_registers / update : write registers value from PC's memory to hardware.\n",
    "\n",
    "dsp.write_all_registers()"
   ]
  },
  {
   "cell_type": "code",
   "execution_count": 36,
   "metadata": {
    "scrolled": false
   },
   "outputs": [
    {
     "name": "stdout",
     "output_type": "stream",
     "text": [
      "\n",
      "<< Interface Register 0 >>:  ('0x0', '0b0')\n",
      "[ RSVD ] :  0\n",
      "[ IF ]   :  0\n",
      "\n",
      "<< Interface Register 1 >>:  ('0x0', '0b0')\n",
      "[ RSVD ] :  0\n",
      "[ IF ]   :  0\n",
      "\n",
      "<< Interface Register 2 >>:  ('0x0', '0b0')\n",
      "[ RSVD ] :  0\n",
      "[ IF ]   :  0\n",
      "\n",
      "<< Interface Register 3 >>:  ('0x0', '0b0')\n",
      "[ RSVD ] :  0\n",
      "[ IF ]   :  0\n",
      "\n",
      "<< Interface Register 4 >>:  ('0x0', '0b0')\n",
      "[ RSVD ] :  0\n",
      "[ IF ]   :  0\n",
      "\n",
      "<< Interface Register 5 >>:  ('0x0', '0b0')\n",
      "[ RSVD ] :  0\n",
      "[ IF ]   :  0\n",
      "\n",
      "<< Interface Register 6 >>:  ('0x0', '0b0')\n",
      "[ RSVD ] :  0\n",
      "[ IF ]   :  0\n",
      "\n",
      "<< Interface Register 7 >>:  ('0x0', '0b0')\n",
      "[ RSVD ] :  0\n",
      "[ IF ]   :  0\n",
      "\n",
      "<< GPIO Pin Setting >>:  ('0xeff', '0b111011111111')\n",
      "[ RSVD ] :  0\n",
      "[ MP ]   :  3839\n",
      "\n",
      "<< Auxiliary ADC Data 0 >>:  ('0xe0', '0b11100000')\n",
      "[ RSVD ] :  0\n",
      "[ AA ]   :  224\n",
      "\n",
      "<< Auxiliary ADC Data 1 >>:  ('0xe0', '0b11100000')\n",
      "[ RSVD ] :  0\n",
      "[ AA ]   :  224\n",
      "\n",
      "<< Auxiliary ADC Data 2 >>:  ('0xe0', '0b11100000')\n",
      "[ RSVD ] :  0\n",
      "[ AA ]   :  224\n",
      "\n",
      "<< Auxiliary ADC Data 3 >>:  ('0xb0', '0b10110000')\n",
      "[ RSVD ] :  0\n",
      "[ AA ]   :  176\n",
      "\n",
      "<< Safeload Registers 0 >>:  ('0x0', '0b0')\n",
      "[ SD ] :  0\n",
      "\n",
      "<< Safeload Registers 1 >>:  ('0x0', '0b0')\n",
      "[ SD ] :  0\n",
      "\n",
      "<< Safeload Registers 2 >>:  ('0x0', '0b0')\n",
      "[ SD ] :  0\n",
      "\n",
      "<< Safeload Registers 3 >>:  ('0x0', '0b0')\n",
      "[ SD ] :  0\n",
      "\n",
      "<< Safeload Registers 4 >>:  ('0x0', '0b0')\n",
      "[ SD ] :  0\n",
      "\n",
      "<< Safeload Address 0 >>:  ('0x0', '0b0')\n",
      "[ RSVD ] :  0\n",
      "[ SA ]   :  0\n",
      "\n",
      "<< Safeload Address 1 >>:  ('0x0', '0b0')\n",
      "[ RSVD ] :  0\n",
      "[ SA ]   :  0\n",
      "\n",
      "<< Safeload Address 2 >>:  ('0x0', '0b0')\n",
      "[ RSVD ] :  0\n",
      "[ SA ]   :  0\n",
      "\n",
      "<< Safeload Address 3 >>:  ('0x0', '0b0')\n",
      "[ RSVD ] :  0\n",
      "[ SA ]   :  0\n",
      "\n",
      "<< Safeload Address 4 >>:  ('0x0', '0b0')\n",
      "[ RSVD ] :  0\n",
      "[ SA ]   :  0\n",
      "\n",
      "<< Data Capture 0 >>:  ('0x7e5', '0b11111100101')\n",
      "[ RSVD ] :  0\n",
      "[ PC ]   :  505\n",
      "[ RS ]   :  1\n",
      "\n",
      "<< Data Capture 1 >>:  ('0x7ac', '0b11110101100')\n",
      "[ RSVD ] :  0\n",
      "[ PC ]   :  491\n",
      "[ RS ]   :  0\n",
      "\n",
      "<< DSP Core Control >>:  ('0x1c', '0b11100')\n",
      "[ RSVD_1 ] :  0\n",
      "[ GD ]     :  0\n",
      "[ RSVD_0 ] :  0\n",
      "[ AACW ]   :  0\n",
      "[ GPCW ]   :  0\n",
      "[ IFCW ]   :  0\n",
      "[ IST ]    :  0\n",
      "[ ADM ]    :  1\n",
      "[ DAM ]    :  1\n",
      "[ CR ]     :  1\n",
      "[ SR ]     :  0\n",
      "\n",
      "<< Serial Output Control >>:  ('0x0', '0b0')\n",
      "[ RSVD ] :  0\n",
      "[ OLRP ] :  0\n",
      "[ OBP ]  :  0\n",
      "[ M_S ]  :  0\n",
      "[ OBF ]  :  0\n",
      "[ OLF ]  :  0\n",
      "[ FST ]  :  0\n",
      "[ TDM ]  :  0\n",
      "[ MSB ]  :  0\n",
      "[ OWL ]  :  0\n",
      "\n",
      "<< Serial Input Control >>:  ('0x0', '0b0')\n",
      "[ RSVD ] :  0\n",
      "[ ILP ]  :  0\n",
      "[ IBP ]  :  0\n",
      "[ M ]    :  0\n",
      "\n",
      "<< Multipurpose Pin Configuration 0 >>:  ('0x0', '0b0')\n",
      "[ MP_0 ] :  0\n",
      "[ MP_1 ] :  0\n",
      "[ MP_2 ] :  0\n",
      "[ MP_3 ] :  0\n",
      "[ MP_4 ] :  0\n",
      "[ MP_5 ] :  0\n",
      "\n",
      "<< Multipurpose Pin Configuration 1 >>:  ('0x0', '0b0')\n",
      "[ MP_6 ]  :  0\n",
      "[ MP_7 ]  :  0\n",
      "[ MP_8 ]  :  0\n",
      "[ MP_9 ]  :  0\n",
      "[ MP_10 ] :  0\n",
      "[ MP_11 ] :  0\n",
      "\n",
      "<< Auxiliary ADC and Power Control >>:  ('0x0', '0b0')\n",
      "[ RSVD_1 ] :  0\n",
      "[ FIL ]    :  0\n",
      "[ AAPD ]   :  0\n",
      "[ VBPD ]   :  0\n",
      "[ VRPD ]   :  0\n",
      "[ RSVD_0 ] :  0\n",
      "[ D0PD ]   :  0\n",
      "[ D1PD ]   :  0\n",
      "[ D2PD ]   :  0\n",
      "[ D3PD ]   :  0\n",
      "\n",
      "<< Auxiliary ADC Enable >>:  ('0x0', '0b0')\n",
      "[ AAEN ] :  0\n",
      "[ RSVD ] :  0\n",
      "\n",
      "<< Oscillator Power Down >>:  ('0x0', '0b0')\n",
      "[ RSVD_1 ] :  0\n",
      "[ OPD ]    :  0\n",
      "[ RSVD_0 ] :  0\n",
      "\n",
      "<< DAC Setup >>:  ('0x1', '0b1')\n",
      "[ RSVD ] :  0\n",
      "[ DS ]   :  1\n"
     ]
    }
   ],
   "source": [
    "# print a report of all registers' values.\n",
    "\n",
    "dsp.print()"
   ]
  },
  {
   "cell_type": "markdown",
   "metadata": {},
   "source": [
    "## Registers values comparison"
   ]
  },
  {
   "cell_type": "code",
   "execution_count": 37,
   "metadata": {},
   "outputs": [],
   "source": [
    "FACTORY_DEFAULT_REGISTERS_VALUES = ((2048, 0),\n",
    "                                    (2049, 0),\n",
    "                                    (2050, 0),\n",
    "                                    (2051, 0),\n",
    "                                    (2052, 0),\n",
    "                                    (2053, 0),\n",
    "                                    (2054, 0),\n",
    "                                    (2055, 0),\n",
    "                                    (2056, 3839),\n",
    "                                    (2057, 0),\n",
    "                                    (2058, 0),\n",
    "                                    (2059, 0),\n",
    "                                    (2060, 0),\n",
    "                                    (2064, 0),\n",
    "                                    (2065, 0),\n",
    "                                    (2066, 0),\n",
    "                                    (2067, 0),\n",
    "                                    (2068, 0),\n",
    "                                    (2069, 0),\n",
    "                                    (2070, 0),\n",
    "                                    (2071, 0),\n",
    "                                    (2072, 0),\n",
    "                                    (2073, 0),\n",
    "                                    (2074, 0),\n",
    "                                    (2075, 0),\n",
    "                                    (2076, 0),\n",
    "                                    (2078, 0),\n",
    "                                    (2079, 0),\n",
    "                                    (2080, 0),\n",
    "                                    (2081, 0),\n",
    "                                    (2082, 0),\n",
    "                                    (2084, 0),\n",
    "                                    (2086, 0),\n",
    "                                    (2087, 0))"
   ]
  },
  {
   "cell_type": "code",
   "execution_count": 38,
   "metadata": {},
   "outputs": [],
   "source": [
    "# reset registers value and saved as a list.\n",
    "\n",
    "dsp.map.reset()\n",
    "default_registers_values = dsp.registers_values"
   ]
  },
  {
   "cell_type": "code",
   "execution_count": 39,
   "metadata": {},
   "outputs": [],
   "source": [
    "# Initialize and save a list of the dsp registers's value\n",
    "\n",
    "dsp.init()\n",
    "initial_registers_values = dsp.registers_values"
   ]
  },
  {
   "cell_type": "code",
   "execution_count": 40,
   "metadata": {},
   "outputs": [],
   "source": [
    "# Wait a while, read from and save a copy of hardware's registers value.\n",
    "\n",
    "dsp.read_all_registers()\n",
    "read_back_registers_values = dsp.registers_values"
   ]
  },
  {
   "cell_type": "code",
   "execution_count": 41,
   "metadata": {},
   "outputs": [
    {
     "data": {
      "text/html": [
       "<div>\n",
       "<style scoped>\n",
       "    .dataframe tbody tr th:only-of-type {\n",
       "        vertical-align: middle;\n",
       "    }\n",
       "\n",
       "    .dataframe tbody tr th {\n",
       "        vertical-align: top;\n",
       "    }\n",
       "\n",
       "    .dataframe thead th {\n",
       "        text-align: right;\n",
       "    }\n",
       "</style>\n",
       "<table border=\"1\" class=\"dataframe\">\n",
       "  <thead>\n",
       "    <tr style=\"text-align: right;\">\n",
       "      <th></th>\n",
       "      <th>register</th>\n",
       "      <th>address</th>\n",
       "      <th>default_value</th>\n",
       "      <th>element_name</th>\n",
       "      <th>idx_lowest_bit</th>\n",
       "      <th>n_bits</th>\n",
       "      <th>read_only</th>\n",
       "      <th>value</th>\n",
       "      <th>value_2</th>\n",
       "      <th>different</th>\n",
       "    </tr>\n",
       "  </thead>\n",
       "  <tbody>\n",
       "    <tr>\n",
       "      <th>17</th>\n",
       "      <td>GPIO Pin Setting</td>\n",
       "      <td>2056</td>\n",
       "      <td>0</td>\n",
       "      <td>MP</td>\n",
       "      <td>0</td>\n",
       "      <td>12</td>\n",
       "      <td>False</td>\n",
       "      <td>3839</td>\n",
       "      <td>0</td>\n",
       "      <td>1</td>\n",
       "    </tr>\n",
       "    <tr>\n",
       "      <th>54</th>\n",
       "      <td>DSP Core Control</td>\n",
       "      <td>2076</td>\n",
       "      <td>0</td>\n",
       "      <td>ADM</td>\n",
       "      <td>4</td>\n",
       "      <td>1</td>\n",
       "      <td>False</td>\n",
       "      <td>0</td>\n",
       "      <td>1</td>\n",
       "      <td>1</td>\n",
       "    </tr>\n",
       "    <tr>\n",
       "      <th>55</th>\n",
       "      <td>DSP Core Control</td>\n",
       "      <td>2076</td>\n",
       "      <td>0</td>\n",
       "      <td>DAM</td>\n",
       "      <td>3</td>\n",
       "      <td>1</td>\n",
       "      <td>False</td>\n",
       "      <td>0</td>\n",
       "      <td>1</td>\n",
       "      <td>1</td>\n",
       "    </tr>\n",
       "    <tr>\n",
       "      <th>56</th>\n",
       "      <td>DSP Core Control</td>\n",
       "      <td>2076</td>\n",
       "      <td>0</td>\n",
       "      <td>CR</td>\n",
       "      <td>2</td>\n",
       "      <td>1</td>\n",
       "      <td>False</td>\n",
       "      <td>0</td>\n",
       "      <td>1</td>\n",
       "      <td>1</td>\n",
       "    </tr>\n",
       "    <tr>\n",
       "      <th>100</th>\n",
       "      <td>DAC Setup</td>\n",
       "      <td>2087</td>\n",
       "      <td>0</td>\n",
       "      <td>DS</td>\n",
       "      <td>0</td>\n",
       "      <td>2</td>\n",
       "      <td>False</td>\n",
       "      <td>0</td>\n",
       "      <td>1</td>\n",
       "      <td>1</td>\n",
       "    </tr>\n",
       "  </tbody>\n",
       "</table>\n",
       "</div>"
      ],
      "text/plain": [
       "             register  address  default_value element_name  idx_lowest_bit  \\\n",
       "17   GPIO Pin Setting     2056              0           MP               0   \n",
       "54   DSP Core Control     2076              0          ADM               4   \n",
       "55   DSP Core Control     2076              0          DAM               3   \n",
       "56   DSP Core Control     2076              0           CR               2   \n",
       "100         DAC Setup     2087              0           DS               0   \n",
       "\n",
       "     n_bits  read_only  value  value_2  different  \n",
       "17       12      False   3839        0          1  \n",
       "54        1      False      0        1          1  \n",
       "55        1      False      0        1          1  \n",
       "56        1      False      0        1          1  \n",
       "100       2      False      0        1          1  "
      ]
     },
     "execution_count": 41,
     "metadata": {},
     "output_type": "execute_result"
    }
   ],
   "source": [
    "# Compare two sets of registers value, with only the different entries shown.\n",
    "\n",
    "df = dsp.map.compare_values_sets_pd(FACTORY_DEFAULT_REGISTERS_VALUES, initial_registers_values)\n",
    "df[df.different == 1]\n",
    "\n",
    "#                                                                               \\|   \\|   "
   ]
  },
  {
   "cell_type": "code",
   "execution_count": 42,
   "metadata": {},
   "outputs": [
    {
     "data": {
      "text/html": [
       "<div>\n",
       "<style scoped>\n",
       "    .dataframe tbody tr th:only-of-type {\n",
       "        vertical-align: middle;\n",
       "    }\n",
       "\n",
       "    .dataframe tbody tr th {\n",
       "        vertical-align: top;\n",
       "    }\n",
       "\n",
       "    .dataframe thead th {\n",
       "        text-align: right;\n",
       "    }\n",
       "</style>\n",
       "<table border=\"1\" class=\"dataframe\">\n",
       "  <thead>\n",
       "    <tr style=\"text-align: right;\">\n",
       "      <th></th>\n",
       "      <th>register</th>\n",
       "      <th>address</th>\n",
       "      <th>default_value</th>\n",
       "      <th>element_name</th>\n",
       "      <th>idx_lowest_bit</th>\n",
       "      <th>n_bits</th>\n",
       "      <th>read_only</th>\n",
       "      <th>value</th>\n",
       "      <th>value_2</th>\n",
       "      <th>different</th>\n",
       "    </tr>\n",
       "  </thead>\n",
       "  <tbody>\n",
       "    <tr>\n",
       "      <th>19</th>\n",
       "      <td>Auxiliary ADC Data 0</td>\n",
       "      <td>2057</td>\n",
       "      <td>0</td>\n",
       "      <td>AA</td>\n",
       "      <td>0</td>\n",
       "      <td>12</td>\n",
       "      <td>False</td>\n",
       "      <td>0</td>\n",
       "      <td>224</td>\n",
       "      <td>1</td>\n",
       "    </tr>\n",
       "    <tr>\n",
       "      <th>21</th>\n",
       "      <td>Auxiliary ADC Data 1</td>\n",
       "      <td>2058</td>\n",
       "      <td>0</td>\n",
       "      <td>AA</td>\n",
       "      <td>0</td>\n",
       "      <td>12</td>\n",
       "      <td>False</td>\n",
       "      <td>0</td>\n",
       "      <td>224</td>\n",
       "      <td>1</td>\n",
       "    </tr>\n",
       "    <tr>\n",
       "      <th>23</th>\n",
       "      <td>Auxiliary ADC Data 2</td>\n",
       "      <td>2059</td>\n",
       "      <td>0</td>\n",
       "      <td>AA</td>\n",
       "      <td>0</td>\n",
       "      <td>12</td>\n",
       "      <td>False</td>\n",
       "      <td>0</td>\n",
       "      <td>224</td>\n",
       "      <td>1</td>\n",
       "    </tr>\n",
       "    <tr>\n",
       "      <th>25</th>\n",
       "      <td>Auxiliary ADC Data 3</td>\n",
       "      <td>2060</td>\n",
       "      <td>0</td>\n",
       "      <td>AA</td>\n",
       "      <td>0</td>\n",
       "      <td>12</td>\n",
       "      <td>False</td>\n",
       "      <td>0</td>\n",
       "      <td>176</td>\n",
       "      <td>1</td>\n",
       "    </tr>\n",
       "    <tr>\n",
       "      <th>42</th>\n",
       "      <td>Data Capture 0</td>\n",
       "      <td>2074</td>\n",
       "      <td>0</td>\n",
       "      <td>PC</td>\n",
       "      <td>2</td>\n",
       "      <td>10</td>\n",
       "      <td>False</td>\n",
       "      <td>0</td>\n",
       "      <td>512</td>\n",
       "      <td>1</td>\n",
       "    </tr>\n",
       "    <tr>\n",
       "      <th>45</th>\n",
       "      <td>Data Capture 1</td>\n",
       "      <td>2075</td>\n",
       "      <td>0</td>\n",
       "      <td>PC</td>\n",
       "      <td>2</td>\n",
       "      <td>10</td>\n",
       "      <td>False</td>\n",
       "      <td>0</td>\n",
       "      <td>302</td>\n",
       "      <td>1</td>\n",
       "    </tr>\n",
       "    <tr>\n",
       "      <th>46</th>\n",
       "      <td>Data Capture 1</td>\n",
       "      <td>2075</td>\n",
       "      <td>0</td>\n",
       "      <td>RS</td>\n",
       "      <td>0</td>\n",
       "      <td>2</td>\n",
       "      <td>False</td>\n",
       "      <td>0</td>\n",
       "      <td>2</td>\n",
       "      <td>1</td>\n",
       "    </tr>\n",
       "    <tr>\n",
       "      <th>54</th>\n",
       "      <td>DSP Core Control</td>\n",
       "      <td>2076</td>\n",
       "      <td>0</td>\n",
       "      <td>ADM</td>\n",
       "      <td>4</td>\n",
       "      <td>1</td>\n",
       "      <td>False</td>\n",
       "      <td>0</td>\n",
       "      <td>1</td>\n",
       "      <td>1</td>\n",
       "    </tr>\n",
       "    <tr>\n",
       "      <th>55</th>\n",
       "      <td>DSP Core Control</td>\n",
       "      <td>2076</td>\n",
       "      <td>0</td>\n",
       "      <td>DAM</td>\n",
       "      <td>3</td>\n",
       "      <td>1</td>\n",
       "      <td>False</td>\n",
       "      <td>0</td>\n",
       "      <td>1</td>\n",
       "      <td>1</td>\n",
       "    </tr>\n",
       "    <tr>\n",
       "      <th>56</th>\n",
       "      <td>DSP Core Control</td>\n",
       "      <td>2076</td>\n",
       "      <td>0</td>\n",
       "      <td>CR</td>\n",
       "      <td>2</td>\n",
       "      <td>1</td>\n",
       "      <td>False</td>\n",
       "      <td>0</td>\n",
       "      <td>1</td>\n",
       "      <td>1</td>\n",
       "    </tr>\n",
       "    <tr>\n",
       "      <th>100</th>\n",
       "      <td>DAC Setup</td>\n",
       "      <td>2087</td>\n",
       "      <td>0</td>\n",
       "      <td>DS</td>\n",
       "      <td>0</td>\n",
       "      <td>2</td>\n",
       "      <td>False</td>\n",
       "      <td>0</td>\n",
       "      <td>1</td>\n",
       "      <td>1</td>\n",
       "    </tr>\n",
       "  </tbody>\n",
       "</table>\n",
       "</div>"
      ],
      "text/plain": [
       "                 register  address  default_value element_name  \\\n",
       "19   Auxiliary ADC Data 0     2057              0           AA   \n",
       "21   Auxiliary ADC Data 1     2058              0           AA   \n",
       "23   Auxiliary ADC Data 2     2059              0           AA   \n",
       "25   Auxiliary ADC Data 3     2060              0           AA   \n",
       "42         Data Capture 0     2074              0           PC   \n",
       "45         Data Capture 1     2075              0           PC   \n",
       "46         Data Capture 1     2075              0           RS   \n",
       "54       DSP Core Control     2076              0          ADM   \n",
       "55       DSP Core Control     2076              0          DAM   \n",
       "56       DSP Core Control     2076              0           CR   \n",
       "100             DAC Setup     2087              0           DS   \n",
       "\n",
       "     idx_lowest_bit  n_bits  read_only  value  value_2  different  \n",
       "19                0      12      False      0      224          1  \n",
       "21                0      12      False      0      224          1  \n",
       "23                0      12      False      0      224          1  \n",
       "25                0      12      False      0      176          1  \n",
       "42                2      10      False      0      512          1  \n",
       "45                2      10      False      0      302          1  \n",
       "46                0       2      False      0        2          1  \n",
       "54                4       1      False      0        1          1  \n",
       "55                3       1      False      0        1          1  \n",
       "56                2       1      False      0        1          1  \n",
       "100               0       2      False      0        1          1  "
      ]
     },
     "execution_count": 42,
     "metadata": {},
     "output_type": "execute_result"
    }
   ],
   "source": [
    "# Another comparison, with only the different entries shown.\n",
    "\n",
    "df = dsp.map.compare_values_sets_pd(FACTORY_DEFAULT_REGISTERS_VALUES, read_back_registers_values)\n",
    "df[df.different == 1]"
   ]
  },
  {
   "cell_type": "code",
   "execution_count": 43,
   "metadata": {
    "scrolled": false
   },
   "outputs": [
    {
     "data": {
      "text/html": [
       "<div>\n",
       "<style scoped>\n",
       "    .dataframe tbody tr th:only-of-type {\n",
       "        vertical-align: middle;\n",
       "    }\n",
       "\n",
       "    .dataframe tbody tr th {\n",
       "        vertical-align: top;\n",
       "    }\n",
       "\n",
       "    .dataframe thead th {\n",
       "        text-align: right;\n",
       "    }\n",
       "</style>\n",
       "<table border=\"1\" class=\"dataframe\">\n",
       "  <thead>\n",
       "    <tr style=\"text-align: right;\">\n",
       "      <th></th>\n",
       "      <th>register</th>\n",
       "      <th>address</th>\n",
       "      <th>default_value</th>\n",
       "      <th>element_name</th>\n",
       "      <th>idx_lowest_bit</th>\n",
       "      <th>n_bits</th>\n",
       "      <th>read_only</th>\n",
       "      <th>value</th>\n",
       "      <th>value_2</th>\n",
       "      <th>different</th>\n",
       "    </tr>\n",
       "  </thead>\n",
       "  <tbody>\n",
       "    <tr>\n",
       "      <th>54</th>\n",
       "      <td>DSP Core Control</td>\n",
       "      <td>2076</td>\n",
       "      <td>0</td>\n",
       "      <td>ADM</td>\n",
       "      <td>4</td>\n",
       "      <td>1</td>\n",
       "      <td>False</td>\n",
       "      <td>0</td>\n",
       "      <td>1</td>\n",
       "      <td>1</td>\n",
       "    </tr>\n",
       "    <tr>\n",
       "      <th>55</th>\n",
       "      <td>DSP Core Control</td>\n",
       "      <td>2076</td>\n",
       "      <td>0</td>\n",
       "      <td>DAM</td>\n",
       "      <td>3</td>\n",
       "      <td>1</td>\n",
       "      <td>False</td>\n",
       "      <td>0</td>\n",
       "      <td>1</td>\n",
       "      <td>1</td>\n",
       "    </tr>\n",
       "    <tr>\n",
       "      <th>56</th>\n",
       "      <td>DSP Core Control</td>\n",
       "      <td>2076</td>\n",
       "      <td>0</td>\n",
       "      <td>CR</td>\n",
       "      <td>2</td>\n",
       "      <td>1</td>\n",
       "      <td>False</td>\n",
       "      <td>0</td>\n",
       "      <td>1</td>\n",
       "      <td>1</td>\n",
       "    </tr>\n",
       "    <tr>\n",
       "      <th>100</th>\n",
       "      <td>DAC Setup</td>\n",
       "      <td>2087</td>\n",
       "      <td>0</td>\n",
       "      <td>DS</td>\n",
       "      <td>0</td>\n",
       "      <td>2</td>\n",
       "      <td>False</td>\n",
       "      <td>0</td>\n",
       "      <td>1</td>\n",
       "      <td>1</td>\n",
       "    </tr>\n",
       "  </tbody>\n",
       "</table>\n",
       "</div>"
      ],
      "text/plain": [
       "             register  address  default_value element_name  idx_lowest_bit  \\\n",
       "54   DSP Core Control     2076              0          ADM               4   \n",
       "55   DSP Core Control     2076              0          DAM               3   \n",
       "56   DSP Core Control     2076              0           CR               2   \n",
       "100         DAC Setup     2087              0           DS               0   \n",
       "\n",
       "     n_bits  read_only  value  value_2  different  \n",
       "54        1      False      0        1          1  \n",
       "55        1      False      0        1          1  \n",
       "56        1      False      0        1          1  \n",
       "100       2      False      0        1          1  "
      ]
     },
     "execution_count": 43,
     "metadata": {},
     "output_type": "execute_result"
    }
   ],
   "source": [
    "# Another comparison, with only the different entries shown.\n",
    "\n",
    "df = dsp.map.compare_values_sets_pd(default_registers_values, initial_registers_values)\n",
    "df[df.different == 1]"
   ]
  },
  {
   "cell_type": "code",
   "execution_count": 44,
   "metadata": {
    "scrolled": false
   },
   "outputs": [
    {
     "data": {
      "text/html": [
       "<div>\n",
       "<style scoped>\n",
       "    .dataframe tbody tr th:only-of-type {\n",
       "        vertical-align: middle;\n",
       "    }\n",
       "\n",
       "    .dataframe tbody tr th {\n",
       "        vertical-align: top;\n",
       "    }\n",
       "\n",
       "    .dataframe thead th {\n",
       "        text-align: right;\n",
       "    }\n",
       "</style>\n",
       "<table border=\"1\" class=\"dataframe\">\n",
       "  <thead>\n",
       "    <tr style=\"text-align: right;\">\n",
       "      <th></th>\n",
       "      <th>register</th>\n",
       "      <th>address</th>\n",
       "      <th>default_value</th>\n",
       "      <th>element_name</th>\n",
       "      <th>idx_lowest_bit</th>\n",
       "      <th>n_bits</th>\n",
       "      <th>read_only</th>\n",
       "      <th>value</th>\n",
       "      <th>value_2</th>\n",
       "      <th>different</th>\n",
       "    </tr>\n",
       "  </thead>\n",
       "  <tbody>\n",
       "    <tr>\n",
       "      <th>17</th>\n",
       "      <td>GPIO Pin Setting</td>\n",
       "      <td>2056</td>\n",
       "      <td>0</td>\n",
       "      <td>MP</td>\n",
       "      <td>0</td>\n",
       "      <td>12</td>\n",
       "      <td>False</td>\n",
       "      <td>0</td>\n",
       "      <td>3839</td>\n",
       "      <td>1</td>\n",
       "    </tr>\n",
       "    <tr>\n",
       "      <th>19</th>\n",
       "      <td>Auxiliary ADC Data 0</td>\n",
       "      <td>2057</td>\n",
       "      <td>0</td>\n",
       "      <td>AA</td>\n",
       "      <td>0</td>\n",
       "      <td>12</td>\n",
       "      <td>False</td>\n",
       "      <td>0</td>\n",
       "      <td>224</td>\n",
       "      <td>1</td>\n",
       "    </tr>\n",
       "    <tr>\n",
       "      <th>21</th>\n",
       "      <td>Auxiliary ADC Data 1</td>\n",
       "      <td>2058</td>\n",
       "      <td>0</td>\n",
       "      <td>AA</td>\n",
       "      <td>0</td>\n",
       "      <td>12</td>\n",
       "      <td>False</td>\n",
       "      <td>0</td>\n",
       "      <td>224</td>\n",
       "      <td>1</td>\n",
       "    </tr>\n",
       "    <tr>\n",
       "      <th>23</th>\n",
       "      <td>Auxiliary ADC Data 2</td>\n",
       "      <td>2059</td>\n",
       "      <td>0</td>\n",
       "      <td>AA</td>\n",
       "      <td>0</td>\n",
       "      <td>12</td>\n",
       "      <td>False</td>\n",
       "      <td>0</td>\n",
       "      <td>224</td>\n",
       "      <td>1</td>\n",
       "    </tr>\n",
       "    <tr>\n",
       "      <th>25</th>\n",
       "      <td>Auxiliary ADC Data 3</td>\n",
       "      <td>2060</td>\n",
       "      <td>0</td>\n",
       "      <td>AA</td>\n",
       "      <td>0</td>\n",
       "      <td>12</td>\n",
       "      <td>False</td>\n",
       "      <td>0</td>\n",
       "      <td>176</td>\n",
       "      <td>1</td>\n",
       "    </tr>\n",
       "    <tr>\n",
       "      <th>42</th>\n",
       "      <td>Data Capture 0</td>\n",
       "      <td>2074</td>\n",
       "      <td>0</td>\n",
       "      <td>PC</td>\n",
       "      <td>2</td>\n",
       "      <td>10</td>\n",
       "      <td>False</td>\n",
       "      <td>0</td>\n",
       "      <td>512</td>\n",
       "      <td>1</td>\n",
       "    </tr>\n",
       "    <tr>\n",
       "      <th>45</th>\n",
       "      <td>Data Capture 1</td>\n",
       "      <td>2075</td>\n",
       "      <td>0</td>\n",
       "      <td>PC</td>\n",
       "      <td>2</td>\n",
       "      <td>10</td>\n",
       "      <td>False</td>\n",
       "      <td>0</td>\n",
       "      <td>302</td>\n",
       "      <td>1</td>\n",
       "    </tr>\n",
       "    <tr>\n",
       "      <th>46</th>\n",
       "      <td>Data Capture 1</td>\n",
       "      <td>2075</td>\n",
       "      <td>0</td>\n",
       "      <td>RS</td>\n",
       "      <td>0</td>\n",
       "      <td>2</td>\n",
       "      <td>False</td>\n",
       "      <td>0</td>\n",
       "      <td>2</td>\n",
       "      <td>1</td>\n",
       "    </tr>\n",
       "  </tbody>\n",
       "</table>\n",
       "</div>"
      ],
      "text/plain": [
       "                register  address  default_value element_name  idx_lowest_bit  \\\n",
       "17      GPIO Pin Setting     2056              0           MP               0   \n",
       "19  Auxiliary ADC Data 0     2057              0           AA               0   \n",
       "21  Auxiliary ADC Data 1     2058              0           AA               0   \n",
       "23  Auxiliary ADC Data 2     2059              0           AA               0   \n",
       "25  Auxiliary ADC Data 3     2060              0           AA               0   \n",
       "42        Data Capture 0     2074              0           PC               2   \n",
       "45        Data Capture 1     2075              0           PC               2   \n",
       "46        Data Capture 1     2075              0           RS               0   \n",
       "\n",
       "    n_bits  read_only  value  value_2  different  \n",
       "17      12      False      0     3839          1  \n",
       "19      12      False      0      224          1  \n",
       "21      12      False      0      224          1  \n",
       "23      12      False      0      224          1  \n",
       "25      12      False      0      176          1  \n",
       "42      10      False      0      512          1  \n",
       "45      10      False      0      302          1  \n",
       "46       2      False      0        2          1  "
      ]
     },
     "execution_count": 44,
     "metadata": {},
     "output_type": "execute_result"
    }
   ],
   "source": [
    "# Another comparison, with only the different entries shown.\n",
    "\n",
    "df = dsp.map.compare_values_sets_pd(initial_registers_values, read_back_registers_values)\n",
    "df[df.different == 1]"
   ]
  },
  {
   "cell_type": "code",
   "execution_count": 45,
   "metadata": {},
   "outputs": [],
   "source": [
    "# reload_from_eeprom: re-write the whole configuration (program, parameters, control registers), equivalent to software reset.\n",
    "\n",
    "dsp.reload_from_eeprom() "
   ]
  },
  {
   "cell_type": "code",
   "execution_count": 46,
   "metadata": {},
   "outputs": [],
   "source": [
    "dsp.control.power_down()  # the end."
   ]
  }
 ],
 "metadata": {
  "kernelspec": {
   "display_name": "Python 3 (ipykernel)",
   "language": "python",
   "name": "python3"
  },
  "language_info": {
   "codemirror_mode": {
    "name": "ipython",
    "version": 3
   },
   "file_extension": ".py",
   "mimetype": "text/x-python",
   "name": "python",
   "nbconvert_exporter": "python",
   "pygments_lexer": "ipython3",
   "version": "3.8.12"
  }
 },
 "nbformat": 4,
 "nbformat_minor": 2
}
