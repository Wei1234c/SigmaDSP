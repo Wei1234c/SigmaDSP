{
 "cells": [
  {
   "cell_type": "markdown",
   "metadata": {},
   "source": [
    "# Factory Functional Test"
   ]
  },
  {
   "cell_type": "code",
   "execution_count": 1,
   "metadata": {},
   "outputs": [],
   "source": [
    "from pathfinder import Pathfinder\n",
    "\n",
    "# abs_paths = ['']\n",
    "# relative_paths = Pathfinder.relative_paths_from_abs(abs_paths)\n",
    "\n",
    "relative_paths = [['..', '..', '..', '..', '..', '..', '已完成', 'Bridges', 'bitbucket', 'github', 'codes'],\n",
    "                  ['..', '..', '..', '..', '..', 'Signal Generators', 'bitbucket', 'github', 'codes'],\n",
    "                  ['..', '..', '..', '..', '..', 'Utilities', 'bitbucket', 'github', 'codes'],\n",
    "                  ['..', '..', 'codes']]\n",
    "\n",
    "Pathfinder.append_relative_paths(relative_paths)"
   ]
  },
  {
   "cell_type": "code",
   "execution_count": 2,
   "metadata": {},
   "outputs": [],
   "source": [
    "import pandas as pd\n",
    "\n",
    "#https://thispointer.com/python-pandas-how-to-display-full-dataframe-i-e-print-all-rows-columns-without-truncation/\n",
    "pd.set_option('display.max_rows', None)\n",
    "# pd.set_option('display.max_columns', None)\n",
    "# pd.set_option('display.width', None)\n",
    "# pd.set_option('display.max_colwidth', -1)"
   ]
  },
  {
   "cell_type": "code",
   "execution_count": 3,
   "metadata": {},
   "outputs": [],
   "source": [
    "from bridges.ftdi.adapters.micropython import machine\n",
    "from bridges.ftdi.controllers.i2c import I2cController\n",
    "from sigma.sigma_dsp.adau import ADAU1401\n",
    "from utilities.adapters import peripherals"
   ]
  },
  {
   "cell_type": "markdown",
   "metadata": {},
   "source": [
    "## Debug mode?"
   ]
  },
  {
   "cell_type": "code",
   "execution_count": 4,
   "metadata": {
    "scrolled": false
   },
   "outputs": [],
   "source": [
    "cls = ADAU1401\n",
    "\n",
    "cls.DEBUG_MODE_SHOW_BUS_DATA = False         # whether to show bus data. \n",
    "cls.DEBUG_MODE_PRINT_REGISTER = False        # whether to print registers. "
   ]
  },
  {
   "cell_type": "markdown",
   "metadata": {},
   "source": [
    "## DSP processor"
   ]
  },
  {
   "cell_type": "code",
   "execution_count": 5,
   "metadata": {},
   "outputs": [],
   "source": [
    "with_hardware_device = True  # set True if hardware is connected.\n",
    "\n",
    "if with_hardware_device:\n",
    "    \n",
    "    ctrl = I2cController()\n",
    "    _machine = ctrl.get_gpio()\n",
    "\n",
    "    _i2c = ctrl.I2C()\n",
    "\n",
    "    _pin_reset = _machine.Pin('ADBUS4', mode = machine.Pin.OUT)\n",
    "    _pin_reset.high()\n",
    "\n",
    "else:\n",
    "    _i2c = _pin_reset = None  # using None for testing without actual hardware device.\n",
    "\n",
    "bus = peripherals.I2C(_i2c)"
   ]
  },
  {
   "cell_type": "code",
   "execution_count": 6,
   "metadata": {},
   "outputs": [],
   "source": [
    "# bus = fx2lp.I2C(as_400KHz = False)"
   ]
  },
  {
   "cell_type": "code",
   "execution_count": 7,
   "metadata": {},
   "outputs": [],
   "source": [
    "dsp = ADAU1401(bus, pin_reset = _pin_reset)"
   ]
  },
  {
   "cell_type": "markdown",
   "metadata": {},
   "source": [
    "## Factory"
   ]
  },
  {
   "cell_type": "code",
   "execution_count": 8,
   "metadata": {},
   "outputs": [],
   "source": [
    "import os\n",
    "from sigma.factory import Factory \n",
    "\n",
    "project_xml_file_url = os.sep.join(['..', '..', 'SigmaStudio projects', 'projects', 'demo', 'demo.xml'])\n",
    "class_files_root_url = os.sep.join(['..', '..', 'codes', 'sigma', 'sigma_studio', 'toolbox', 'cells']) \n",
    "\n",
    "factory = Factory(project_xml_file_url = project_xml_file_url,\n",
    "                  class_files_root_url = class_files_root_url,\n",
    "                  dsp = dsp\n",
    "                 )"
   ]
  },
  {
   "cell_type": "markdown",
   "metadata": {},
   "source": [
    "## IC"
   ]
  },
  {
   "cell_type": "code",
   "execution_count": 9,
   "metadata": {
    "scrolled": false
   },
   "outputs": [
    {
     "data": {
      "text/html": [
       "<div>\n",
       "<style scoped>\n",
       "    .dataframe tbody tr th:only-of-type {\n",
       "        vertical-align: middle;\n",
       "    }\n",
       "\n",
       "    .dataframe tbody tr th {\n",
       "        vertical-align: top;\n",
       "    }\n",
       "\n",
       "    .dataframe thead th {\n",
       "        text-align: right;\n",
       "    }\n",
       "</style>\n",
       "<table border=\"1\" class=\"dataframe\">\n",
       "  <thead>\n",
       "    <tr style=\"text-align: right;\">\n",
       "      <th></th>\n",
       "      <th></th>\n",
       "      <th></th>\n",
       "      <th>param_full_name</th>\n",
       "      <th>type</th>\n",
       "      <th>value</th>\n",
       "      <th>address</th>\n",
       "      <th>n_bytes</th>\n",
       "    </tr>\n",
       "    <tr>\n",
       "      <th>algorithm_name</th>\n",
       "      <th>cell_name</th>\n",
       "      <th>param_name</th>\n",
       "      <th></th>\n",
       "      <th></th>\n",
       "      <th></th>\n",
       "      <th></th>\n",
       "      <th></th>\n",
       "    </tr>\n",
       "  </thead>\n",
       "  <tbody>\n",
       "    <tr>\n",
       "      <th rowspan=\"6\" valign=\"top\">SWGain1940DBAlg</th>\n",
       "      <th rowspan=\"2\" valign=\"top\">Volume_Control_in1</th>\n",
       "      <th>step</th>\n",
       "      <td>SWGain1940DBAlg4step</td>\n",
       "      <td>float</td>\n",
       "      <td>0.000244</td>\n",
       "      <td>13</td>\n",
       "      <td>4</td>\n",
       "    </tr>\n",
       "    <tr>\n",
       "      <th>target</th>\n",
       "      <td>SWGain1940DBAlg4target</td>\n",
       "      <td>float</td>\n",
       "      <td>1.000000</td>\n",
       "      <td>12</td>\n",
       "      <td>4</td>\n",
       "    </tr>\n",
       "    <tr>\n",
       "      <th rowspan=\"2\" valign=\"top\">Volume_Control_out01</th>\n",
       "      <th>step</th>\n",
       "      <td>SWGain1940DBAlg2step</td>\n",
       "      <td>float</td>\n",
       "      <td>0.000244</td>\n",
       "      <td>131</td>\n",
       "      <td>4</td>\n",
       "    </tr>\n",
       "    <tr>\n",
       "      <th>target</th>\n",
       "      <td>SWGain1940DBAlg2target</td>\n",
       "      <td>float</td>\n",
       "      <td>0.173780</td>\n",
       "      <td>130</td>\n",
       "      <td>4</td>\n",
       "    </tr>\n",
       "    <tr>\n",
       "      <th rowspan=\"2\" valign=\"top\">Volume_Control_out23</th>\n",
       "      <th>step</th>\n",
       "      <td>SWGain1940DBAlg3step</td>\n",
       "      <td>float</td>\n",
       "      <td>0.000244</td>\n",
       "      <td>133</td>\n",
       "      <td>4</td>\n",
       "    </tr>\n",
       "    <tr>\n",
       "      <th>target</th>\n",
       "      <td>SWGain1940DBAlg3target</td>\n",
       "      <td>float</td>\n",
       "      <td>0.158489</td>\n",
       "      <td>132</td>\n",
       "      <td>4</td>\n",
       "    </tr>\n",
       "    <tr>\n",
       "      <th rowspan=\"4\" valign=\"top\">SingleCtrlMixer</th>\n",
       "      <th>Merger0</th>\n",
       "      <th></th>\n",
       "      <td>SingleCtrlMixer19401</td>\n",
       "      <td>float</td>\n",
       "      <td>0.250000</td>\n",
       "      <td>58</td>\n",
       "      <td>4</td>\n",
       "    </tr>\n",
       "    <tr>\n",
       "      <th>Merger1</th>\n",
       "      <th></th>\n",
       "      <td>SingleCtrlMixer19402</td>\n",
       "      <td>float</td>\n",
       "      <td>0.250000</td>\n",
       "      <td>59</td>\n",
       "      <td>4</td>\n",
       "    </tr>\n",
       "    <tr>\n",
       "      <th>Merger2</th>\n",
       "      <th></th>\n",
       "      <td>SingleCtrlMixer19403</td>\n",
       "      <td>float</td>\n",
       "      <td>0.250000</td>\n",
       "      <td>60</td>\n",
       "      <td>4</td>\n",
       "    </tr>\n",
       "    <tr>\n",
       "      <th>Merger3</th>\n",
       "      <th></th>\n",
       "      <td>SingleCtrlMixer19404</td>\n",
       "      <td>float</td>\n",
       "      <td>0.250000</td>\n",
       "      <td>61</td>\n",
       "      <td>4</td>\n",
       "    </tr>\n",
       "    <tr>\n",
       "      <th rowspan=\"2\" valign=\"top\">StMuxSwSlew</th>\n",
       "      <th>Source_Switch_0</th>\n",
       "      <th>coeffname</th>\n",
       "      <td>StMuxSwSlew1coeffname</td>\n",
       "      <td>float</td>\n",
       "      <td>0.000000</td>\n",
       "      <td>8</td>\n",
       "      <td>4</td>\n",
       "    </tr>\n",
       "    <tr>\n",
       "      <th>Source_Switch_1</th>\n",
       "      <th>coeffname</th>\n",
       "      <td>StMuxSwSlew2coeffname</td>\n",
       "      <td>int</td>\n",
       "      <td>2.000000</td>\n",
       "      <td>9</td>\n",
       "      <td>4</td>\n",
       "    </tr>\n",
       "    <tr>\n",
       "      <th rowspan=\"2\" valign=\"top\">WhiteNAlgNew</th>\n",
       "      <th rowspan=\"2\" valign=\"top\">White_Noise</th>\n",
       "      <th>enable</th>\n",
       "      <td>WhiteNAlgNew1enable</td>\n",
       "      <td>float</td>\n",
       "      <td>1.000000</td>\n",
       "      <td>6</td>\n",
       "      <td>4</td>\n",
       "    </tr>\n",
       "    <tr>\n",
       "      <th>mxx</th>\n",
       "      <td>WhiteNAlgNew1mxx</td>\n",
       "      <td>int</td>\n",
       "      <td>345675.000000</td>\n",
       "      <td>7</td>\n",
       "      <td>4</td>\n",
       "    </tr>\n",
       "    <tr>\n",
       "      <th rowspan=\"6\" valign=\"top\">sin_lookupAlg</th>\n",
       "      <th rowspan=\"3\" valign=\"top\">Tone1</th>\n",
       "      <th>increment</th>\n",
       "      <td>sin_lookupAlg19401increment</td>\n",
       "      <td>float</td>\n",
       "      <td>0.004583</td>\n",
       "      <td>1</td>\n",
       "      <td>4</td>\n",
       "    </tr>\n",
       "    <tr>\n",
       "      <th>ison</th>\n",
       "      <td>sin_lookupAlg19401ison</td>\n",
       "      <td>float</td>\n",
       "      <td>1.000000</td>\n",
       "      <td>2</td>\n",
       "      <td>4</td>\n",
       "    </tr>\n",
       "    <tr>\n",
       "      <th>mask</th>\n",
       "      <td>sin_lookupAlg19401mask</td>\n",
       "      <td>int</td>\n",
       "      <td>255.000000</td>\n",
       "      <td>0</td>\n",
       "      <td>4</td>\n",
       "    </tr>\n",
       "    <tr>\n",
       "      <th rowspan=\"3\" valign=\"top\">Tone2</th>\n",
       "      <th>increment</th>\n",
       "      <td>sin_lookupAlg19402increment</td>\n",
       "      <td>float</td>\n",
       "      <td>0.004750</td>\n",
       "      <td>4</td>\n",
       "      <td>4</td>\n",
       "    </tr>\n",
       "    <tr>\n",
       "      <th>ison</th>\n",
       "      <td>sin_lookupAlg19402ison</td>\n",
       "      <td>float</td>\n",
       "      <td>1.000000</td>\n",
       "      <td>5</td>\n",
       "      <td>4</td>\n",
       "    </tr>\n",
       "    <tr>\n",
       "      <th>mask</th>\n",
       "      <td>sin_lookupAlg19402mask</td>\n",
       "      <td>int</td>\n",
       "      <td>255.000000</td>\n",
       "      <td>3</td>\n",
       "      <td>4</td>\n",
       "    </tr>\n",
       "  </tbody>\n",
       "</table>\n",
       "</div>"
      ],
      "text/plain": [
       "                                                             param_full_name  \\\n",
       "algorithm_name  cell_name            param_name                                \n",
       "SWGain1940DBAlg Volume_Control_in1   step               SWGain1940DBAlg4step   \n",
       "                                     target           SWGain1940DBAlg4target   \n",
       "                Volume_Control_out01 step               SWGain1940DBAlg2step   \n",
       "                                     target           SWGain1940DBAlg2target   \n",
       "                Volume_Control_out23 step               SWGain1940DBAlg3step   \n",
       "                                     target           SWGain1940DBAlg3target   \n",
       "SingleCtrlMixer Merger0                                 SingleCtrlMixer19401   \n",
       "                Merger1                                 SingleCtrlMixer19402   \n",
       "                Merger2                                 SingleCtrlMixer19403   \n",
       "                Merger3                                 SingleCtrlMixer19404   \n",
       "StMuxSwSlew     Source_Switch_0      coeffname         StMuxSwSlew1coeffname   \n",
       "                Source_Switch_1      coeffname         StMuxSwSlew2coeffname   \n",
       "WhiteNAlgNew    White_Noise          enable              WhiteNAlgNew1enable   \n",
       "                                     mxx                    WhiteNAlgNew1mxx   \n",
       "sin_lookupAlg   Tone1                increment   sin_lookupAlg19401increment   \n",
       "                                     ison             sin_lookupAlg19401ison   \n",
       "                                     mask             sin_lookupAlg19401mask   \n",
       "                Tone2                increment   sin_lookupAlg19402increment   \n",
       "                                     ison             sin_lookupAlg19402ison   \n",
       "                                     mask             sin_lookupAlg19402mask   \n",
       "\n",
       "                                                  type          value  \\\n",
       "algorithm_name  cell_name            param_name                         \n",
       "SWGain1940DBAlg Volume_Control_in1   step        float       0.000244   \n",
       "                                     target      float       1.000000   \n",
       "                Volume_Control_out01 step        float       0.000244   \n",
       "                                     target      float       0.173780   \n",
       "                Volume_Control_out23 step        float       0.000244   \n",
       "                                     target      float       0.158489   \n",
       "SingleCtrlMixer Merger0                          float       0.250000   \n",
       "                Merger1                          float       0.250000   \n",
       "                Merger2                          float       0.250000   \n",
       "                Merger3                          float       0.250000   \n",
       "StMuxSwSlew     Source_Switch_0      coeffname   float       0.000000   \n",
       "                Source_Switch_1      coeffname     int       2.000000   \n",
       "WhiteNAlgNew    White_Noise          enable      float       1.000000   \n",
       "                                     mxx           int  345675.000000   \n",
       "sin_lookupAlg   Tone1                increment   float       0.004583   \n",
       "                                     ison        float       1.000000   \n",
       "                                     mask          int     255.000000   \n",
       "                Tone2                increment   float       0.004750   \n",
       "                                     ison        float       1.000000   \n",
       "                                     mask          int     255.000000   \n",
       "\n",
       "                                                 address  n_bytes  \n",
       "algorithm_name  cell_name            param_name                    \n",
       "SWGain1940DBAlg Volume_Control_in1   step             13        4  \n",
       "                                     target           12        4  \n",
       "                Volume_Control_out01 step            131        4  \n",
       "                                     target          130        4  \n",
       "                Volume_Control_out23 step            133        4  \n",
       "                                     target          132        4  \n",
       "SingleCtrlMixer Merger0                               58        4  \n",
       "                Merger1                               59        4  \n",
       "                Merger2                               60        4  \n",
       "                Merger3                               61        4  \n",
       "StMuxSwSlew     Source_Switch_0      coeffname         8        4  \n",
       "                Source_Switch_1      coeffname         9        4  \n",
       "WhiteNAlgNew    White_Noise          enable            6        4  \n",
       "                                     mxx               7        4  \n",
       "sin_lookupAlg   Tone1                increment         1        4  \n",
       "                                     ison              2        4  \n",
       "                                     mask              0        4  \n",
       "                Tone2                increment         4        4  \n",
       "                                     ison              5        4  \n",
       "                                     mask              3        4  "
      ]
     },
     "execution_count": 9,
     "metadata": {},
     "output_type": "execute_result"
    }
   ],
   "source": [
    "# read and wrap project XML file into a \"IC\" object.\n",
    "\n",
    "ic = factory.get_ic()\n",
    "ic.df.tail(20)"
   ]
  },
  {
   "cell_type": "markdown",
   "metadata": {},
   "source": [
    "## Cell"
   ]
  },
  {
   "cell_type": "code",
   "execution_count": 10,
   "metadata": {},
   "outputs": [
    {
     "data": {
      "text/html": [
       "<div>\n",
       "<style scoped>\n",
       "    .dataframe tbody tr th:only-of-type {\n",
       "        vertical-align: middle;\n",
       "    }\n",
       "\n",
       "    .dataframe tbody tr th {\n",
       "        vertical-align: top;\n",
       "    }\n",
       "\n",
       "    .dataframe thead th {\n",
       "        text-align: right;\n",
       "    }\n",
       "</style>\n",
       "<table border=\"1\" class=\"dataframe\">\n",
       "  <thead>\n",
       "    <tr style=\"text-align: right;\">\n",
       "      <th></th>\n",
       "      <th></th>\n",
       "      <th></th>\n",
       "      <th>param_full_name</th>\n",
       "      <th>type</th>\n",
       "      <th>value</th>\n",
       "      <th>address</th>\n",
       "      <th>n_bytes</th>\n",
       "    </tr>\n",
       "    <tr>\n",
       "      <th>cell_name</th>\n",
       "      <th>algorithm_name</th>\n",
       "      <th>param_name</th>\n",
       "      <th></th>\n",
       "      <th></th>\n",
       "      <th></th>\n",
       "      <th></th>\n",
       "      <th></th>\n",
       "    </tr>\n",
       "  </thead>\n",
       "  <tbody>\n",
       "    <tr>\n",
       "      <th rowspan=\"2\" valign=\"top\">Volume_Control_in1</th>\n",
       "      <th rowspan=\"2\" valign=\"top\">SWGain1940DBAlg</th>\n",
       "      <th>step</th>\n",
       "      <td>SWGain1940DBAlg4step</td>\n",
       "      <td>float</td>\n",
       "      <td>0.000244</td>\n",
       "      <td>13</td>\n",
       "      <td>4</td>\n",
       "    </tr>\n",
       "    <tr>\n",
       "      <th>target</th>\n",
       "      <td>SWGain1940DBAlg4target</td>\n",
       "      <td>float</td>\n",
       "      <td>1.000000</td>\n",
       "      <td>12</td>\n",
       "      <td>4</td>\n",
       "    </tr>\n",
       "  </tbody>\n",
       "</table>\n",
       "</div>"
      ],
      "text/plain": [
       "                                                      param_full_name   type  \\\n",
       "cell_name          algorithm_name  param_name                                  \n",
       "Volume_Control_in1 SWGain1940DBAlg step          SWGain1940DBAlg4step  float   \n",
       "                                   target      SWGain1940DBAlg4target  float   \n",
       "\n",
       "                                                  value  address  n_bytes  \n",
       "cell_name          algorithm_name  param_name                              \n",
       "Volume_Control_in1 SWGain1940DBAlg step        0.000244       13        4  \n",
       "                                   target      1.000000       12        4  "
      ]
     },
     "execution_count": 10,
     "metadata": {},
     "output_type": "execute_result"
    }
   ],
   "source": [
    "# get_cell_by_name: get a \"Cell\" object by name.\n",
    "\n",
    "cell = factory.get_cell_by_name('Volume_Control_in1')\n",
    "cell.df"
   ]
  },
  {
   "cell_type": "markdown",
   "metadata": {},
   "source": [
    "## Cells "
   ]
  },
  {
   "cell_type": "code",
   "execution_count": 11,
   "metadata": {},
   "outputs": [
    {
     "data": {
      "text/html": [
       "<div>\n",
       "<style scoped>\n",
       "    .dataframe tbody tr th:only-of-type {\n",
       "        vertical-align: middle;\n",
       "    }\n",
       "\n",
       "    .dataframe tbody tr th {\n",
       "        vertical-align: top;\n",
       "    }\n",
       "\n",
       "    .dataframe thead th {\n",
       "        text-align: right;\n",
       "    }\n",
       "</style>\n",
       "<table border=\"1\" class=\"dataframe\">\n",
       "  <thead>\n",
       "    <tr style=\"text-align: right;\">\n",
       "      <th></th>\n",
       "      <th></th>\n",
       "      <th></th>\n",
       "      <th>param_full_name</th>\n",
       "      <th>type</th>\n",
       "      <th>value</th>\n",
       "      <th>address</th>\n",
       "      <th>n_bytes</th>\n",
       "    </tr>\n",
       "    <tr>\n",
       "      <th>cell_name</th>\n",
       "      <th>algorithm_name</th>\n",
       "      <th>param_name</th>\n",
       "      <th></th>\n",
       "      <th></th>\n",
       "      <th></th>\n",
       "      <th></th>\n",
       "      <th></th>\n",
       "    </tr>\n",
       "  </thead>\n",
       "  <tbody>\n",
       "    <tr>\n",
       "      <th rowspan=\"2\" valign=\"top\">Volume_Control_in1</th>\n",
       "      <th rowspan=\"2\" valign=\"top\">SWGain1940DBAlg</th>\n",
       "      <th>step</th>\n",
       "      <td>SWGain1940DBAlg4step</td>\n",
       "      <td>float</td>\n",
       "      <td>0.000244</td>\n",
       "      <td>13</td>\n",
       "      <td>4</td>\n",
       "    </tr>\n",
       "    <tr>\n",
       "      <th>target</th>\n",
       "      <td>SWGain1940DBAlg4target</td>\n",
       "      <td>float</td>\n",
       "      <td>1.000000</td>\n",
       "      <td>12</td>\n",
       "      <td>4</td>\n",
       "    </tr>\n",
       "  </tbody>\n",
       "</table>\n",
       "</div>"
      ],
      "text/plain": [
       "                                                      param_full_name   type  \\\n",
       "cell_name          algorithm_name  param_name                                  \n",
       "Volume_Control_in1 SWGain1940DBAlg step          SWGain1940DBAlg4step  float   \n",
       "                                   target      SWGain1940DBAlg4target  float   \n",
       "\n",
       "                                                  value  address  n_bytes  \n",
       "cell_name          algorithm_name  param_name                              \n",
       "Volume_Control_in1 SWGain1940DBAlg step        0.000244       13        4  \n",
       "                                   target      1.000000       12        4  "
      ]
     },
     "execution_count": 11,
     "metadata": {},
     "output_type": "execute_result"
    }
   ],
   "source": [
    "# get all the \"Cell\" objects of a SigmaStudio project. A \"Cell\" has methods (like set_frequency...) with which we can control Dsp behavior.\n",
    "\n",
    "cells = factory.get_cells()\n",
    "cells['Volume_Control_in1'].df"
   ]
  },
  {
   "cell_type": "markdown",
   "metadata": {},
   "source": [
    "## Cell Manifest"
   ]
  },
  {
   "cell_type": "code",
   "execution_count": 12,
   "metadata": {},
   "outputs": [
    {
     "name": "stdout",
     "output_type": "stream",
     "text": [
      "param_eq_out3 = cells['Param EQ_out3']  # PEQ1Chan - Double Precision( 1 )\n",
      "source_switch_0 = cells['Source_Switch_0']  # Stereo SW Slew( 3 )\n",
      "source_switch_1 = cells['Source_Switch_1']  # Stereo SW Slew( 3 )\n",
      "tone1 = cells['Tone1']  # Tone Synthesis (lookup/sine)( 1 )\n",
      "tone2 = cells['Tone2']  # Tone Synthesis (lookup/sine)( 1 )\n",
      "volume_control_in0 = cells['Volume_Control_in0']  # Gain (RC Slew)( 1 )\n",
      "volume_control_in1 = cells['Volume_Control_in1']  # Gain (RC Slew)( 1 )\n",
      "volume_control_out01 = cells['Volume_Control_out01']  # Gain (RC Slew)( 1 )\n",
      "volume_control_out23 = cells['Volume_Control_out23']  # Gain (RC Slew)( 1 )\n",
      "white_noise = cells['White_Noise']  # White Noise( 1 )\n"
     ]
    }
   ],
   "source": [
    "# get_cells_manifest: generate a script to embody Cell objects.\n",
    "\n",
    "for item in factory.get_cells_manifest()[-10:]:\n",
    "    print(item)"
   ]
  },
  {
   "cell_type": "code",
   "execution_count": 13,
   "metadata": {},
   "outputs": [
    {
     "data": {
      "text/html": [
       "<div>\n",
       "<style scoped>\n",
       "    .dataframe tbody tr th:only-of-type {\n",
       "        vertical-align: middle;\n",
       "    }\n",
       "\n",
       "    .dataframe tbody tr th {\n",
       "        vertical-align: top;\n",
       "    }\n",
       "\n",
       "    .dataframe thead th {\n",
       "        text-align: right;\n",
       "    }\n",
       "</style>\n",
       "<table border=\"1\" class=\"dataframe\">\n",
       "  <thead>\n",
       "    <tr style=\"text-align: right;\">\n",
       "      <th></th>\n",
       "      <th></th>\n",
       "      <th></th>\n",
       "      <th>param_full_name</th>\n",
       "      <th>type</th>\n",
       "      <th>value</th>\n",
       "      <th>address</th>\n",
       "      <th>n_bytes</th>\n",
       "    </tr>\n",
       "    <tr>\n",
       "      <th>cell_name</th>\n",
       "      <th>algorithm_name</th>\n",
       "      <th>param_name</th>\n",
       "      <th></th>\n",
       "      <th></th>\n",
       "      <th></th>\n",
       "      <th></th>\n",
       "      <th></th>\n",
       "    </tr>\n",
       "  </thead>\n",
       "  <tbody>\n",
       "    <tr>\n",
       "      <th rowspan=\"2\" valign=\"top\">Volume_Control_out01</th>\n",
       "      <th rowspan=\"2\" valign=\"top\">SWGain1940DBAlg</th>\n",
       "      <th>step</th>\n",
       "      <td>SWGain1940DBAlg2step</td>\n",
       "      <td>float</td>\n",
       "      <td>0.000244</td>\n",
       "      <td>131</td>\n",
       "      <td>4</td>\n",
       "    </tr>\n",
       "    <tr>\n",
       "      <th>target</th>\n",
       "      <td>SWGain1940DBAlg2target</td>\n",
       "      <td>float</td>\n",
       "      <td>0.173780</td>\n",
       "      <td>130</td>\n",
       "      <td>4</td>\n",
       "    </tr>\n",
       "  </tbody>\n",
       "</table>\n",
       "</div>"
      ],
      "text/plain": [
       "                                                        param_full_name  \\\n",
       "cell_name            algorithm_name  param_name                           \n",
       "Volume_Control_out01 SWGain1940DBAlg step          SWGain1940DBAlg2step   \n",
       "                                     target      SWGain1940DBAlg2target   \n",
       "\n",
       "                                                  type     value  address  \\\n",
       "cell_name            algorithm_name  param_name                             \n",
       "Volume_Control_out01 SWGain1940DBAlg step        float  0.000244      131   \n",
       "                                     target      float  0.173780      130   \n",
       "\n",
       "                                                 n_bytes  \n",
       "cell_name            algorithm_name  param_name           \n",
       "Volume_Control_out01 SWGain1940DBAlg step              4  \n",
       "                                     target            4  "
      ]
     },
     "execution_count": 13,
     "metadata": {},
     "output_type": "execute_result"
    }
   ],
   "source": [
    "volume_control_out01 = cells['Volume_Control_out01']  # Gain (RC Slew)( 1 )\n",
    "volume_control_out01.df"
   ]
  },
  {
   "cell_type": "markdown",
   "metadata": {},
   "source": [
    "## Cell's methods / properties description"
   ]
  },
  {
   "cell_type": "code",
   "execution_count": 14,
   "metadata": {
    "scrolled": false
   },
   "outputs": [],
   "source": [
    "# show a report of every Cell's methods signature in a SigmaStudio project.\n",
    "    \n",
    "#factory.show_methods()  ## un-comment this to show the long report."
   ]
  },
  {
   "cell_type": "code",
   "execution_count": 15,
   "metadata": {},
   "outputs": [
    {
     "name": "stdout",
     "output_type": "stream",
     "text": [
      "{\n",
      "    \"cell_name\": \"Volume_Control_out01\",\n",
      "    \"algorithm_name\": \"SWGain1940DBAlg\",\n",
      "    \"methods\": [\n",
      "        \"dB_to_gain(dB)\",\n",
      "        \"gain_to_dB(gain)\",\n",
      "        \"get_dB(param_name=None, **kwargs)\",\n",
      "        \"get_gain(param_name=None, **kwargs)\",\n",
      "        \"get_param(param_name='', algorithm_idx=0)\",\n",
      "        \"get_parameters_values(**kwargs)\",\n",
      "        \"read_parameter(param)\",\n",
      "        \"set_dB(dB, param_name=None, **kwargs)\",\n",
      "        \"set_gain(gain, param_name=None, **kwargs)\",\n",
      "        \"set_param(data, param_name='', send_now=True, algorithm_idx=None)\",\n",
      "        \"set_parameters_values(name_value_pairs, **kwargs)\",\n",
      "        \"set_slew_rate(slew_rate, **kwargs)\",\n",
      "        \"set_volume(dB, **kwargs)\",\n",
      "        \"show_methods(print_out=True)\",\n",
      "        \"write_parameter(param, send_now=True)\"\n",
      "    ],\n",
      "    \"properties\": [\n",
      "        \"GAIN_PARAM\",\n",
      "        \"PARAMETER_SHORT_NAMES\",\n",
      "        \"SLEW_PARAM\",\n",
      "        \"algorithm_name\",\n",
      "        \"description\",\n",
      "        \"df\",\n",
      "        \"name\",\n",
      "        \"parameters\",\n",
      "        \"properties\",\n",
      "        \"slew_rate\"\n",
      "    ]\n",
      "}\n"
     ]
    }
   ],
   "source": [
    "# each cell can show its own functional description\n",
    "\n",
    "volume_control_out01.show_methods()"
   ]
  },
  {
   "cell_type": "code",
   "execution_count": 16,
   "metadata": {},
   "outputs": [
    {
     "data": {
      "text/html": [
       "<div>\n",
       "<style scoped>\n",
       "    .dataframe tbody tr th:only-of-type {\n",
       "        vertical-align: middle;\n",
       "    }\n",
       "\n",
       "    .dataframe tbody tr th {\n",
       "        vertical-align: top;\n",
       "    }\n",
       "\n",
       "    .dataframe thead th {\n",
       "        text-align: right;\n",
       "    }\n",
       "</style>\n",
       "<table border=\"1\" class=\"dataframe\">\n",
       "  <thead>\n",
       "    <tr style=\"text-align: right;\">\n",
       "      <th></th>\n",
       "      <th></th>\n",
       "      <th></th>\n",
       "      <th>param_full_name</th>\n",
       "      <th>type</th>\n",
       "      <th>value</th>\n",
       "      <th>address</th>\n",
       "      <th>n_bytes</th>\n",
       "    </tr>\n",
       "    <tr>\n",
       "      <th>cell_name</th>\n",
       "      <th>algorithm_name</th>\n",
       "      <th>param_name</th>\n",
       "      <th></th>\n",
       "      <th></th>\n",
       "      <th></th>\n",
       "      <th></th>\n",
       "      <th></th>\n",
       "    </tr>\n",
       "  </thead>\n",
       "  <tbody>\n",
       "    <tr>\n",
       "      <th rowspan=\"2\" valign=\"top\">Volume_Control_out01</th>\n",
       "      <th rowspan=\"2\" valign=\"top\">SWGain1940DBAlg</th>\n",
       "      <th>step</th>\n",
       "      <td>SWGain1940DBAlg2step</td>\n",
       "      <td>float</td>\n",
       "      <td>0.000244</td>\n",
       "      <td>131</td>\n",
       "      <td>4</td>\n",
       "    </tr>\n",
       "    <tr>\n",
       "      <th>target</th>\n",
       "      <td>SWGain1940DBAlg2target</td>\n",
       "      <td>float</td>\n",
       "      <td>0.173780</td>\n",
       "      <td>130</td>\n",
       "      <td>4</td>\n",
       "    </tr>\n",
       "  </tbody>\n",
       "</table>\n",
       "</div>"
      ],
      "text/plain": [
       "                                                        param_full_name  \\\n",
       "cell_name            algorithm_name  param_name                           \n",
       "Volume_Control_out01 SWGain1940DBAlg step          SWGain1940DBAlg2step   \n",
       "                                     target      SWGain1940DBAlg2target   \n",
       "\n",
       "                                                  type     value  address  \\\n",
       "cell_name            algorithm_name  param_name                             \n",
       "Volume_Control_out01 SWGain1940DBAlg step        float  0.000244      131   \n",
       "                                     target      float  0.173780      130   \n",
       "\n",
       "                                                 n_bytes  \n",
       "cell_name            algorithm_name  param_name           \n",
       "Volume_Control_out01 SWGain1940DBAlg step              4  \n",
       "                                     target            4  "
      ]
     },
     "execution_count": 16,
     "metadata": {},
     "output_type": "execute_result"
    }
   ],
   "source": [
    "# each cell can show its parameters in use\n",
    "\n",
    "volume_control_out01.df"
   ]
  },
  {
   "cell_type": "code",
   "execution_count": 17,
   "metadata": {},
   "outputs": [
    {
     "data": {
      "text/plain": [
       "['step', 'target']"
      ]
     },
     "execution_count": 17,
     "metadata": {},
     "output_type": "execute_result"
    }
   ],
   "source": [
    "# each cell can show its parameters in use\n",
    "\n",
    "volume_control_out01.PARAMETER_SHORT_NAMES"
   ]
  },
  {
   "cell_type": "code",
   "execution_count": 18,
   "metadata": {
    "scrolled": false
   },
   "outputs": [
    {
     "data": {
      "text/plain": [
       "{'Gain`max': 0, 'Gain`min': -80, 'Gain`res': 100, 'Gain': -15.2}"
      ]
     },
     "execution_count": 18,
     "metadata": {},
     "output_type": "execute_result"
    }
   ],
   "source": [
    "# \"properties\" are the initial properties of the Algorithm, not every one of them are parameters.\n",
    "\n",
    "volume_control_out01.properties"
   ]
  },
  {
   "cell_type": "code",
   "execution_count": 19,
   "metadata": {},
   "outputs": [
    {
     "data": {
      "text/plain": [
       "'SWGain1940DBAlg'"
      ]
     },
     "execution_count": 19,
     "metadata": {},
     "output_type": "execute_result"
    }
   ],
   "source": [
    "# algorithm_name\n",
    "\n",
    "volume_control_out01.algorithm_name"
   ]
  },
  {
   "cell_type": "code",
   "execution_count": 20,
   "metadata": {},
   "outputs": [
    {
     "data": {
      "text/plain": [
       "'Gain (RC Slew)( 1 )'"
      ]
     },
     "execution_count": 20,
     "metadata": {},
     "output_type": "execute_result"
    }
   ],
   "source": [
    "# description\n",
    "\n",
    "volume_control_out01.description"
   ]
  },
  {
   "cell_type": "markdown",
   "metadata": {},
   "source": [
    "### Save current parameters to EEPROM"
   ]
  },
  {
   "cell_type": "code",
   "execution_count": 21,
   "metadata": {},
   "outputs": [],
   "source": [
    "dsp.control.load_eeprom_from_file('E2Prom.bin')\n",
    "dsp.reload_from_eeprom()"
   ]
  },
  {
   "cell_type": "code",
   "execution_count": 22,
   "metadata": {},
   "outputs": [],
   "source": [
    "# save_parameters_to_eeprom: save current parameters' value to EEPROM.\n",
    "\n",
    "tone1 = cells['Tone1']\n",
    "tone1.set_frequency(1200)\n",
    "\n",
    "factory.save_parameters_to_eeprom()\n",
    "dsp.reload_from_eeprom()"
   ]
  },
  {
   "cell_type": "code",
   "execution_count": 23,
   "metadata": {},
   "outputs": [],
   "source": [
    "# save_parameters_to_eeprom: save current parameters' value to EEPROM.\n",
    "\n",
    "tone1.set_frequency(110)\n",
    "\n",
    "factory.save_parameters_to_eeprom()\n",
    "dsp.reload_from_eeprom()"
   ]
  }
 ],
 "metadata": {
  "kernelspec": {
   "display_name": "Python 3 (ipykernel)",
   "language": "python",
   "name": "python3"
  },
  "language_info": {
   "codemirror_mode": {
    "name": "ipython",
    "version": 3
   },
   "file_extension": ".py",
   "mimetype": "text/x-python",
   "name": "python",
   "nbconvert_exporter": "python",
   "pygments_lexer": "ipython3",
   "version": "3.8.12"
  }
 },
 "nbformat": 4,
 "nbformat_minor": 2
}
