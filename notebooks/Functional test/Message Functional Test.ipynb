{
 "cells": [
  {
   "cell_type": "markdown",
   "metadata": {},
   "source": [
    "# Message Functional Test\n",
    "\n",
    "https://www.analog.com/media/en/technical-documentation/data-sheets/adau1401.pdf"
   ]
  },
  {
   "cell_type": "code",
   "execution_count": 1,
   "metadata": {},
   "outputs": [],
   "source": [
    "from pathfinder import Pathfinder\n",
    "\n",
    "# abs_paths = ['']\n",
    "# relative_paths = Pathfinder.relative_paths_from_abs(abs_paths)\n",
    "\n",
    "relative_paths = [['..', '..', '..', '..', '..', '..', '已完成', 'Bridges', 'bitbucket', 'github', 'codes'],\n",
    "                  ['..', '..', '..', '..', '..', 'Signal Generators', 'bitbucket', 'github', 'codes'],\n",
    "                  ['..', '..', '..', '..', '..', 'Utilities', 'bitbucket', 'github', 'codes'],\n",
    "                  ['..', '..', 'codes']]\n",
    "\n",
    "Pathfinder.append_relative_paths(relative_paths)"
   ]
  },
  {
   "cell_type": "code",
   "execution_count": 2,
   "metadata": {},
   "outputs": [],
   "source": [
    "import pandas as pd\n",
    "\n",
    "#https://thispointer.com/python-pandas-how-to-display-full-dataframe-i-e-print-all-rows-columns-without-truncation/\n",
    "pd.set_option('display.max_rows', None)\n",
    "# pd.set_option('display.max_columns', None)\n",
    "# pd.set_option('display.width', None)\n",
    "# pd.set_option('display.max_colwidth', -1)"
   ]
  },
  {
   "cell_type": "code",
   "execution_count": 3,
   "metadata": {},
   "outputs": [],
   "source": [
    "from bridges.ftdi.adapters.micropython import machine\n",
    "from bridges.ftdi.controllers.i2c import I2cController\n",
    "from sigma.sigma_dsp.adau import ADAU1401\n",
    "from sigma.bus import adapters"
   ]
  },
  {
   "cell_type": "markdown",
   "metadata": {},
   "source": [
    "## Debug mode?"
   ]
  },
  {
   "cell_type": "code",
   "execution_count": 4,
   "metadata": {
    "scrolled": false
   },
   "outputs": [],
   "source": [
    "cls = ADAU1401\n",
    "\n",
    "cls.DEBUG_MODE_SHOW_BUS_DATA = False         # whether to show bus data. \n",
    "cls.DEBUG_MODE_PRINT_REGISTER = False        # whether to print registers. "
   ]
  },
  {
   "cell_type": "markdown",
   "metadata": {},
   "source": [
    "## DSP processor"
   ]
  },
  {
   "cell_type": "code",
   "execution_count": 5,
   "metadata": {},
   "outputs": [],
   "source": [
    "with_hardware_device = True  # set True if hardware is connected.\n",
    "\n",
    "if with_hardware_device:\n",
    "    \n",
    "    ctrl = I2cController()\n",
    "    _machine = ctrl.get_gpio()\n",
    "\n",
    "    _i2c = ctrl.I2C()\n",
    "\n",
    "    _pin_reset = _machine.Pin('ADBUS4', mode = machine.Pin.OUT)\n",
    "    _pin_reset.high()\n",
    "\n",
    "else:\n",
    "    _i2c = _pin_reset = None  # using None for testing without actual hardware device.\n",
    "\n",
    "bus = adapters.I2C(_i2c)"
   ]
  },
  {
   "cell_type": "code",
   "execution_count": 6,
   "metadata": {},
   "outputs": [],
   "source": [
    "# bus = fx2lp.I2C(as_400KHz = False)"
   ]
  },
  {
   "cell_type": "code",
   "execution_count": 7,
   "metadata": {},
   "outputs": [],
   "source": [
    "dsp = ADAU1401(bus, pin_reset = _pin_reset)"
   ]
  },
  {
   "cell_type": "markdown",
   "metadata": {},
   "source": [
    "## Methods Test"
   ]
  },
  {
   "cell_type": "code",
   "execution_count": 8,
   "metadata": {},
   "outputs": [],
   "source": [
    "from sigma.sigma_dsp.messages import Message, Messages"
   ]
  },
  {
   "cell_type": "code",
   "execution_count": 9,
   "metadata": {},
   "outputs": [],
   "source": [
    "# load messages bytes from binary file\n",
    "\n",
    "with open('E2Prom.bin', 'br') as f:\n",
    "    messages_bytes = f.read()"
   ]
  },
  {
   "cell_type": "code",
   "execution_count": 10,
   "metadata": {},
   "outputs": [
    {
     "name": "stdout",
     "output_type": "stream",
     "text": [
      "{'Type': 'Write', 'Type ID': 1, 'Device Address': 0, 'Sub Address': '0x081C', 'Data': b'\\x00X'}\n"
     ]
    }
   ],
   "source": [
    "# parse the first segment of data bytes into a \"Message\".\n",
    "\n",
    "message, _ = Message.from_bytes(messages_bytes)\n",
    "print(message)"
   ]
  },
  {
   "cell_type": "code",
   "execution_count": 11,
   "metadata": {},
   "outputs": [
    {
     "name": "stdout",
     "output_type": "stream",
     "text": [
      "{'Type': 'Write', 'Type ID': 1, 'Device Address': 0, 'Sub Address': '0x081C', 'Data': b'\\x00X'}\n",
      "{'Type': 'No operation executed', 'Type ID': 3}\n",
      "{'Type': 'No operation executed', 'Type ID': 3}\n",
      "{'Type': 'No operation executed', 'Type ID': 3}\n",
      "{'Type': 'No operation executed', 'Type ID': 3}\n"
     ]
    }
   ],
   "source": [
    "# parse data bytes in to a collections of \"Message\" object.\n",
    "\n",
    "messages = Message.messages_from_bytes(messages_bytes)\n",
    "\n",
    "for m in messages[:5]:\n",
    "    print(m)"
   ]
  },
  {
   "cell_type": "code",
   "execution_count": 12,
   "metadata": {},
   "outputs": [
    {
     "name": "stdout",
     "output_type": "stream",
     "text": [
      "{'Type': 'Write', 'Type ID': 1, 'Device Address': 0, 'Sub Address': '0x081C', 'Data': b'\\x00\\x18\\x08\\x00\\x00\\x00\\x00\\x00\\x00\\x00\\x00\\x00\\x00\\x00\\x00\\x00\\x80\\x00\\x00\\x00\\x00\\x00\\x00\\x01'}\n",
      "{'Type': 'Write', 'Type ID': 1, 'Device Address': 0, 'Sub Address': '0x081C', 'Data': b'\\x00\\x1c'}\n"
     ]
    }
   ],
   "source": [
    "# load SigmaStudio text data files into \"Messages\". \n",
    "\n",
    "messages = Message.messages_from_SigmaStudio_files(file_NumBytes = 'NumBytes_IC_1.dat', file_TxBuffer = 'TxBuffer_IC_1.dat')\n",
    "\n",
    "for m in messages[-2:]:\n",
    "    print(m)"
   ]
  }
 ],
 "metadata": {
  "kernelspec": {
   "display_name": "Python 3 (ipykernel)",
   "language": "python",
   "name": "python3"
  },
  "language_info": {
   "codemirror_mode": {
    "name": "ipython",
    "version": 3
   },
   "file_extension": ".py",
   "mimetype": "text/x-python",
   "name": "python",
   "nbconvert_exporter": "python",
   "pygments_lexer": "ipython3",
   "version": "3.8.12"
  }
 },
 "nbformat": 4,
 "nbformat_minor": 2
}
